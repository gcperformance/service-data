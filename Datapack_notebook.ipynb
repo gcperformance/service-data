{
 "cells": [
  {
   "cell_type": "code",
   "execution_count": 2,
   "metadata": {},
   "outputs": [],
   "source": [
    "# setting my si data frame\n",
    "import pandas as pd\n",
    "data = '/workspaces/service-data/outputs/si.csv'\n",
    "si = pd.read_csv(data, sep=';')\n"
   ]
  },
  {
   "cell_type": "code",
   "execution_count": 3,
   "metadata": {},
   "outputs": [
    {
     "name": "stdout",
     "output_type": "stream",
     "text": [
      "current date: 2025-03-27_15:18:53\n"
     ]
    }
   ],
   "source": [
    "from datetime import datetime\n",
    "import pytz\n",
    "\n",
    "# Specify the timezone\n",
    "timezone = pytz.timezone(\"America/Montreal\")\n",
    "\n",
    "# Get the current date and time in the specified timezone\n",
    "current_date = datetime.now(timezone)\n",
    "\n",
    "# Format the current date and time into the desired string format\n",
    "current_datestr = current_date.strftime(\"%Y-%m-%d_%H:%M:%S\")\n",
    "\n",
    "# Print the current date and time\n",
    "print(f\"current date: {current_datestr}\")\n"
   ]
  },
  {
   "cell_type": "code",
   "execution_count": 4,
   "metadata": {},
   "outputs": [
    {
     "name": "stdout",
     "output_type": "stream",
     "text": [
      "['fiscal_yr', 'service_id', 'service_name_en', 'service_name_fr', 'service_description_en', 'service_description_fr', 'service_type', 'service_recipient_type', 'service_scope', 'client_target_groups', 'program_name_en', 'program_name_fr', 'client_feedback_channel', 'service_fee', 'last_GBA', 'ident_platform', 'ident_platform_comments', 'os_account_registration', 'os_authentication', 'os_application', 'os_decision', 'os_issuance', 'os_issue_resolution_feedback', 'os_comments_client_interaction_en', 'os_comments_client_interaction_fr', 'how_has_the_service_been_assessed_for_accessibility', 'last_service_review', 'last_service_improvement', 'sin_usage', 'cra_bn_identifier_usage', 'num_phone_enquiries', 'num_applications_by_phone', 'num_website_visits', 'num_applications_online', 'num_applications_in_person', 'num_applications_by_mail', 'num_applications_by_email', 'num_applications_by_fax', 'num_applications_by_other', 'special_remarks_en', 'special_remarks_fr', 'service_uri_en', 'service_uri_fr', 'num_applications_total', 'org_name_variant', 'org_id', 'department_en', 'department_fr', 'program_id', 'automated_decision_system', 'automated_decision_system_description_en', 'automated_decision_system_description_fr', 'fy_org_id_service_id']\n"
     ]
    }
   ],
   "source": [
    "# want to view my column names\n",
    "colnames = si.columns.tolist()\n",
    "print(colnames)"
   ]
  },
  {
   "cell_type": "code",
   "execution_count": 5,
   "metadata": {},
   "outputs": [],
   "source": [
    "# to add a new column for phone apps inquiries\n",
    "# phone apps inquiries are num_phone_enquiries plus num_applications_by_phone\n",
    "# based on error received 'can only concatenate str (not int) to string\n",
    "\n",
    "# Convert the columns to numeric, forcing any non-numeric values to NaN\n",
    "si['num_phone_enquiries'] = pd.to_numeric(si['num_phone_enquiries'], errors='coerce')\n",
    "si['num_applications_by_phone'] = pd.to_numeric(si['num_applications_by_phone'], errors='coerce')\n",
    "\n",
    "# Add the new column 'phone_apps_inquiries' by filling NaN values with 0\n",
    "si['phone_apps_inquiries'] = si['num_phone_enquiries'].fillna(0) + si['num_applications_by_phone'].fillna(0)\n",
    "\n",
    "\n"
   ]
  },
  {
   "cell_type": "code",
   "execution_count": 6,
   "metadata": {},
   "outputs": [],
   "source": [
    "# adding a new column for total transactions\n",
    "# to avoid error, convert the columns to numeric\n",
    "\n",
    "si['num_applications_by_email'] = pd.to_numeric(si['num_applications_by_email'], errors='coerce')\n",
    "si['num_applications_by_fax'] = pd.to_numeric(si['num_applications_by_fax'], errors='coerce')\n",
    "si['num_applications_by_mail'] = pd.to_numeric(si['num_applications_by_mail'], errors='coerce')\n",
    "si['num_applications_by_other'] = pd.to_numeric(si['num_applications_by_other'], errors='coerce')\n",
    "si['num_applications_in_person'] = pd.to_numeric(si['num_applications_in_person'], errors='coerce')\n",
    "si['num_applications_online'] = pd.to_numeric(si['num_applications_online'], errors='coerce')\n",
    "\n",
    "# now add all six columns including the column phone apps inquiries to get the total transactions\n",
    "si['total_transactions'] = (\n",
    "si['num_applications_by_email'].fillna(0) + \n",
    "si['num_applications_by_fax'].fillna(0) + \n",
    "si['num_applications_by_mail'].fillna(0) + \n",
    "si['num_applications_by_other'].fillna(0) + \n",
    "si['num_applications_in_person'].fillna(0) + \n",
    "si['num_applications_online'].fillna(0) + \n",
    "si['phone_apps_inquiries'].fillna(0)\n",
    ")\n"
   ]
  },
  {
   "cell_type": "code",
   "execution_count": 7,
   "metadata": {},
   "outputs": [],
   "source": [
    "# adding a new column for applications done by phone, online and in person only\n",
    "si['apps_online_and_per'] = (\n",
    "    si['num_applications_in_person'].fillna(0) + \n",
    "    si['num_applications_online'].fillna(0) + \n",
    "    si['phone_apps_inquiries'].fillna(0)\n",
    ")"
   ]
  },
  {
   "cell_type": "code",
   "execution_count": 8,
   "metadata": {},
   "outputs": [],
   "source": [
    "# adding a new column for omnichannels\n",
    "si['omnichannel'] = si.apply(\n",
    "    lambda row: 1 if pd.notna(row['phone_apps_inquiries']) and pd.notna(row['num_applications_online']) and pd.notna(row['num_applications_in_person']) else 0, \n",
    "    axis=1\n",
    ")"
   ]
  },
  {
   "cell_type": "code",
   "execution_count": 9,
   "metadata": {},
   "outputs": [],
   "source": [
    "# adding a new column for high volume services\n",
    "si['highvolume'] = (si['total_transactions'] >= 45000).astype(int)"
   ]
  },
  {
   "cell_type": "code",
   "execution_count": 10,
   "metadata": {},
   "outputs": [],
   "source": [
    "# adding a new column for online enabled Y\n",
    "# creating columns to check which lists out the columns from os_account_registration to os_issue_resolution_feedback\n",
    "columns_to_check = [ 'os_account_registration', 'os_authentication', 'os_application', 'os_decision', 'os_issuance', 'os_issue_resolution_feedback']\n",
    "\n",
    "si['online_enabledY'] = si[columns_to_check].apply(lambda row: (row == 'Y').sum(), axis=1)\n"
   ]
  },
  {
   "cell_type": "code",
   "execution_count": 11,
   "metadata": {},
   "outputs": [],
   "source": [
    "# adding column for online enabled N\n",
    "si['online_enabledN'] = si[columns_to_check].apply(lambda row: (row == 'N').sum(), axis=1)"
   ]
  },
  {
   "cell_type": "code",
   "execution_count": 12,
   "metadata": {},
   "outputs": [],
   "source": [
    "# adding column for online enabled NA\n",
    "si['online_enabledNA'] = si[columns_to_check].isna().sum(axis=1)"
   ]
  },
  {
   "cell_type": "code",
   "execution_count": 13,
   "metadata": {},
   "outputs": [],
   "source": [
    "# adding a new column for online end to end\n",
    "si['onlineE2E'] = (\n",
    "    si.apply(lambda row: \"0\" if row['online_enabledNA'] == 6 \n",
    "    else \"1\" if row['online_enabledY'] + row['online_enabledNA'] == 6 \n",
    "    else \"0\", axis=1)\n",
    "    )"
   ]
  },
  {
   "cell_type": "code",
   "execution_count": 14,
   "metadata": {},
   "outputs": [],
   "source": [
    "# adding a new column for online one or more points\n",
    "si['onl_morepoints'] = si['online_enabledY'].apply(lambda x: '1' if x >= 1 else '0')"
   ]
  },
  {
   "cell_type": "code",
   "execution_count": 15,
   "metadata": {},
   "outputs": [],
   "source": [
    "# importing the service standards data\n",
    "ss_data = '/workspaces/service-data/outputs/ss.csv'\n",
    "ss = pd.read_csv(ss_data, sep=';')"
   ]
  },
  {
   "cell_type": "code",
   "execution_count": 16,
   "metadata": {},
   "outputs": [
    {
     "name": "stdout",
     "output_type": "stream",
     "text": [
      "['fiscal_yr', 'service_id', 'service_name_en', 'service_name_fr', 'service_standard_id', 'service_standard_en', 'service_standard_fr', 'type', 'gcss_tool_fiscal_yr', 'channel', 'channel_comments_en', 'channel_comments_fr', 'target_type', 'target', 'volume_meeting_target', 'total_volume', 'performance', 'comments_en', 'comments_fr', 'target_met', 'standards_targets_uri_en', 'standards_targets_uri_fr', 'performance_results_uri_en', 'performance_results_uri_fr', 'org_name_variant', 'org_id', 'department_en', 'department_fr', 'fy_org_id_service_id']\n"
     ]
    }
   ],
   "source": [
    "# to view the column names in the ss data frame\n",
    "colnames_ss = ss.columns.tolist()\n",
    "print(colnames_ss)"
   ]
  },
  {
   "cell_type": "code",
   "execution_count": 17,
   "metadata": {},
   "outputs": [],
   "source": [
    "# adding column for services with standards and standards met\n",
    "# grouping and summarizing the 'ss' DataFrame\n",
    "ss_count = ss.groupby(['service_id', 'fiscal_yr']).agg(\n",
    "    standards_count=('service_id', 'size'),  # Count the occurrences\n",
    "    standards_met=('target_met', lambda x: (x == 'Y').sum())  # Count where target_met is 'Y'\n",
    ").reset_index()\n",
    "\n",
    "# merging the 'ss_count' DataFrame with the 'si' DataFrame\n",
    "si = si.merge(ss_count, on=['service_id', 'fiscal_yr'], how='left')\n",
    "\n",
    "# replacing NaN values in 'standards_count' and 'standards_met' with 0\n",
    "si['standards_count'] = si['standards_count'].fillna(0)\n",
    "si['standards_met'] = si['standards_met'].fillna(0)\n"
   ]
  },
  {
   "cell_type": "code",
   "execution_count": 18,
   "metadata": {},
   "outputs": [],
   "source": [
    "# adding a new column for services that met at least one standard\n",
    "si['STDS_metsome'] = (si['standards_met'] >= 1).astype(int)"
   ]
  },
  {
   "cell_type": "code",
   "execution_count": 19,
   "metadata": {},
   "outputs": [],
   "source": [
    "# creating the FYSID column by merging fiscal_yr and service_id columns\n",
    "si['FYSID'] = si['fiscal_yr'].astype(str) + si['service_id'].astype(str)"
   ]
  },
  {
   "cell_type": "code",
   "execution_count": 20,
   "metadata": {},
   "outputs": [],
   "source": [
    "# BEGIN THE DATA PACK METRICS\n",
    "# filter data for fiscal year 2023-2024\n",
    "sidata = si[si['fiscal_yr'] == '2023-2024']"
   ]
  },
  {
   "cell_type": "code",
   "execution_count": 21,
   "metadata": {},
   "outputs": [
    {
     "name": "stdout",
     "output_type": "stream",
     "text": [
      "475.890462\n"
     ]
    }
   ],
   "source": [
    "# metric 2: total number of transactions for fiscal year 2023-2024\n",
    "# the number is in millions\n",
    "totaltransactions = sidata['total_transactions'].sum() / 1000000\n",
    "print(totaltransactions)"
   ]
  },
  {
   "cell_type": "code",
   "execution_count": 22,
   "metadata": {},
   "outputs": [
    {
     "name": "stdout",
     "output_type": "stream",
     "text": [
      "1681\n"
     ]
    }
   ],
   "source": [
    "# count the number of transactions(services) in 2023-2024\n",
    "count = sidata['total_transactions'].notna().sum()\n",
    "print(count)"
   ]
  },
  {
   "cell_type": "code",
   "execution_count": 23,
   "metadata": {},
   "outputs": [
    {
     "name": "stdout",
     "output_type": "stream",
     "text": [
      "56.10337868044937\n"
     ]
    }
   ],
   "source": [
    "# metric 3a: online as a share of total transactions\n",
    "# total online transactions for 2023-2024 (replacing NaN values with 0)\n",
    "online_transactions = sidata['num_applications_online'].fillna(0).sum()\n",
    "\n",
    "# total transactions\n",
    "transactionstotal = sidata['total_transactions'].sum()\n",
    "\n",
    "# fraction of online as a share of total transactions\n",
    "online_fraction = (online_transactions / transactionstotal) * 100\n",
    "print(online_fraction)"
   ]
  },
  {
   "cell_type": "code",
   "execution_count": 24,
   "metadata": {},
   "outputs": [
    {
     "name": "stdout",
     "output_type": "stream",
     "text": [
      "15.06537968815185\n"
     ]
    }
   ],
   "source": [
    "# metric 3b: telephone as a share of total transactions\n",
    "# total telephone transactions for 2023-2024 (replacing NaN values with 0)\n",
    "telephone_transactions = sidata['phone_apps_inquiries'].fillna(0).sum()\n",
    "\n",
    "# fraction of telephone as a share of total transactions\n",
    "telephone_fraction = (telephone_transactions / transactionstotal) * 100\n",
    "print(telephone_fraction)"
   ]
  },
  {
   "cell_type": "code",
   "execution_count": 25,
   "metadata": {},
   "outputs": [
    {
     "name": "stdout",
     "output_type": "stream",
     "text": [
      "21.556712771436047\n"
     ]
    }
   ],
   "source": [
    "# metric 3c: in-person as a share of total transactions\n",
    "# total in-person transactions for 2023-2024 (replacing NaN values with 0)\n",
    "in_person_transactions = sidata['num_applications_in_person'].fillna(0).sum()\n",
    "\n",
    "#fraction of in-person as a share of total transactions\n",
    "in_person_fraction = ( in_person_transactions / transactionstotal) * 100\n",
    "print(in_person_fraction)"
   ]
  },
  {
   "cell_type": "code",
   "execution_count": 26,
   "metadata": {},
   "outputs": [
    {
     "name": "stdout",
     "output_type": "stream",
     "text": [
      "42.415229030339084\n"
     ]
    }
   ],
   "source": [
    "# metric 4: share of GC services wih omnichannel offerings\n",
    "# count of the distinct service_id where omnichannel is 1\n",
    "omni_count = sidata[sidata['omnichannel'] == 1]['service_id'].nunique()\n",
    "\n",
    "# count of the distinct service_id in the entire dataset\n",
    "total_count = sidata['service_id'].nunique()\n",
    "\n",
    "# share of omnichannel as a percentage\n",
    "share_omni = (omni_count / total_count) * 100\n",
    "print(share_omni)"
   ]
  },
  {
   "cell_type": "code",
   "execution_count": 27,
   "metadata": {},
   "outputs": [
    {
     "name": "stdout",
     "output_type": "stream",
     "text": [
      "74.16997154447247\n"
     ]
    }
   ],
   "source": [
    "# metric 5a: online as a share of omnichannel usage\n",
    "# total transactions where omnichannel is 1\n",
    "totaltransactions = sidata[sidata['omnichannel'] == 1]['total_transactions'].sum()\n",
    "\n",
    "# sum of online applications where omnichannel is 1\n",
    "sum_onlineapps = sidata[sidata['omnichannel'] == 1]['num_applications_online'].sum()\n",
    "\n",
    "# online as a share of omnichannel usage\n",
    "share_online = (sum_onlineapps / totaltransactions) * 100\n",
    "print(share_online)"
   ]
  },
  {
   "cell_type": "code",
   "execution_count": 28,
   "metadata": {},
   "outputs": [
    {
     "name": "stdout",
     "output_type": "stream",
     "text": [
      "14.159869295532912\n"
     ]
    }
   ],
   "source": [
    "# metric 5b: phone as a share of omnichannel usage\n",
    "# sum of phone app inquiries where omnichannel is 1\n",
    "sum_phone = sidata[sidata['omnichannel'] == 1]['phone_apps_inquiries'].sum()\n",
    "\n",
    "# phone as a share of omnichannel usage\n",
    "share_phone = (sum_phone / totaltransactions) * 100\n",
    "print(share_phone)"
   ]
  },
  {
   "cell_type": "code",
   "execution_count": 29,
   "metadata": {},
   "outputs": [
    {
     "name": "stdout",
     "output_type": "stream",
     "text": [
      "3.0216317825912165\n"
     ]
    }
   ],
   "source": [
    "# metric 5c: in-person as a share of omnichannel usage\n",
    "sum_in_person = sidata[sidata['omnichannel'] == 1]['num_applications_in_person'].sum()\n",
    "\n",
    "# in_person as a share of omnichannel usage\n",
    "share_in_person = (sum_in_person / totaltransactions) * 100\n",
    "print(share_in_person)"
   ]
  },
  {
   "cell_type": "code",
   "execution_count": 30,
   "metadata": {},
   "outputs": [
    {
     "name": "stdout",
     "output_type": "stream",
     "text": [
      "78\n"
     ]
    }
   ],
   "source": [
    "# metric 6: number of departments\n",
    "no_departments = sidata['department_en'].nunique()\n",
    "print(no_departments)"
   ]
  },
  {
   "cell_type": "code",
   "execution_count": 31,
   "metadata": {},
   "outputs": [
    {
     "name": "stdout",
     "output_type": "stream",
     "text": [
      "494\n"
     ]
    }
   ],
   "source": [
    "# metric 7: number of programs\n",
    "no_programs = sidata['program_name_en'].nunique()\n",
    "print(no_programs)"
   ]
  },
  {
   "cell_type": "code",
   "execution_count": 32,
   "metadata": {},
   "outputs": [
    {
     "name": "stdout",
     "output_type": "stream",
     "text": [
      "1681\n"
     ]
    }
   ],
   "source": [
    "# metric 8: number of services (data is already filtered for external)\n",
    "no_external_service = sidata['service_id'].nunique()\n",
    "print(no_external_service)"
   ]
  },
  {
   "cell_type": "code",
   "execution_count": 33,
   "metadata": {},
   "outputs": [
    {
     "name": "stdout",
     "output_type": "stream",
     "text": [
      "128\n"
     ]
    }
   ],
   "source": [
    "# metric 9: number of high volume services\n",
    "no_highvolume_services = sidata[sidata['highvolume'] == 1]['service_id'].nunique()\n",
    "print(no_highvolume_services)"
   ]
  },
  {
   "cell_type": "code",
   "execution_count": 34,
   "metadata": {},
   "outputs": [
    {
     "name": "stdout",
     "output_type": "stream",
     "text": [
      "266.990628\n"
     ]
    }
   ],
   "source": [
    "# metric 10: total online transactions (in millions)\n",
    "total_online_transactions = sidata['num_applications_online'].sum() / 1000000\n",
    "print(total_online_transactions)"
   ]
  },
  {
   "cell_type": "code",
   "execution_count": 36,
   "metadata": {},
   "outputs": [
    {
     "name": "stdout",
     "output_type": "stream",
     "text": [
      "71.694705\n"
     ]
    }
   ],
   "source": [
    "# metric 11: total phone transactions (in millions)\n",
    "total_phone_transactions = sidata['phone_apps_inquiries'].sum() / 1000000\n",
    "print(total_phone_transactions)"
   ]
  },
  {
   "cell_type": "code",
   "execution_count": 37,
   "metadata": {},
   "outputs": [
    {
     "name": "stdout",
     "output_type": "stream",
     "text": [
      "13.432088\n"
     ]
    }
   ],
   "source": [
    "# metric 12: total in person transactions (in millions)\n",
    "in_person_applications = sidata['num_applications_in_person'].sum()\n",
    "# look up canadian boarder services ending in 669 '2023-2024669'\n",
    "lookup_value = \"2023-2024669\"\n",
    "lookup_result = sidata[sidata['FYSID'] == lookup_value]['total_transactions'].iloc[0]\n",
    "\n",
    "# subtract CBSA from in person applications\n",
    "total_in_person_applications = (in_person_applications - lookup_result) / 1000000\n",
    "print(total_in_person_applications)"
   ]
  },
  {
   "cell_type": "code",
   "execution_count": 38,
   "metadata": {},
   "outputs": [
    {
     "name": "stdout",
     "output_type": "stream",
     "text": [
      "21.405343\n"
     ]
    }
   ],
   "source": [
    "# metric 13: total mail applications ( in millions)\n",
    "total_mail_applications = sidata['num_applications_by_mail'].sum() / 1000000\n",
    "print(total_mail_applications)"
   ]
  },
  {
   "cell_type": "code",
   "execution_count": 46,
   "metadata": {},
   "outputs": [
    {
     "name": "stdout",
     "output_type": "stream",
     "text": [
      "33.41443633414436\n"
     ]
    },
    {
     "name": "stderr",
     "output_type": "stream",
     "text": [
      "/tmp/ipykernel_2095/1531946847.py:3: SettingWithCopyWarning: \n",
      "A value is trying to be set on a copy of a slice from a DataFrame.\n",
      "Try using .loc[row_indexer,col_indexer] = value instead\n",
      "\n",
      "See the caveats in the documentation: https://pandas.pydata.org/pandas-docs/stable/user_guide/indexing.html#returning-a-view-versus-a-copy\n",
      "  sidata['onlineE2E'] = pd.to_numeric(sidata['onlineE2E'], errors='coerce')\n"
     ]
    }
   ],
   "source": [
    "# metric 14: share of external services online end to end (data is already filtered for external)\n",
    "# convert the 'onlineE2E' column to numeric values (in case it's stored as strings)\n",
    "sidata['onlineE2E'] = pd.to_numeric(sidata['onlineE2E'], errors='coerce')\n",
    "\n",
    "# distinct services online end to end\n",
    "onl_E2E = sidata[(sidata['onlineE2E'] == 1)]['service_id'].nunique()\n",
    "\n",
    "# distinct services where online enabled NA < 6\n",
    "onl_enabledNA = sidata[(sidata['online_enabledNA'] < 6)]['service_id'].nunique()\n",
    "\n",
    "# share of external services online end to end\n",
    "share_ext_onlE2E = (onl_E2E / onl_enabledNA) * 100\n",
    "print(share_ext_onlE2E)"
   ]
  },
  {
   "cell_type": "code",
   "execution_count": 51,
   "metadata": {},
   "outputs": [
    {
     "name": "stdout",
     "output_type": "stream",
     "text": [
      "46.2819750148721\n"
     ]
    },
    {
     "name": "stderr",
     "output_type": "stream",
     "text": [
      "/tmp/ipykernel_2095/3251567798.py:4: SettingWithCopyWarning: \n",
      "A value is trying to be set on a copy of a slice from a DataFrame.\n",
      "Try using .loc[row_indexer,col_indexer] = value instead\n",
      "\n",
      "See the caveats in the documentation: https://pandas.pydata.org/pandas-docs/stable/user_guide/indexing.html#returning-a-view-versus-a-copy\n",
      "  sidata['onl_morepoints'] = pd.to_numeric(sidata['onl_morepoints'], errors='coerce')\n"
     ]
    }
   ],
   "source": [
    "# metric 15: share of external serices that have at least one point online (data is already filtered for external services)\n",
    "\n",
    "# convert the 'onl_morepoints' column to numeric values (in case it's stored as strings)\n",
    "sidata['onl_morepoints'] = pd.to_numeric(sidata['onl_morepoints'], errors='coerce')\n",
    "\n",
    "# services with atleast one point online\n",
    "onl_onepoint = sidata[(sidata['onl_morepoints'] == 1)]['service_id'].nunique()\n",
    "\n",
    "# all services\n",
    "all_services = sidata['service_id'].nunique()\n",
    "\n",
    "# share of services with one at least one point online\n",
    "share_service = (onl_onepoint / all_services) * 100\n",
    "print(share_service)\n"
   ]
  },
  {
   "cell_type": "code",
   "execution_count": 52,
   "metadata": {},
   "outputs": [
    {
     "name": "stdout",
     "output_type": "stream",
     "text": [
      "39.321832242712674\n"
     ]
    }
   ],
   "source": [
    "# metric 16: services meeting service standards\n",
    "# services that met some standards\n",
    "ser_metsome = sidata[(sidata['STDS_metsome'] == 1)]['service_id'].nunique()\n",
    "\n",
    "# share of services meeting service standards\n",
    "ser_metstds = (ser_metsome / all_services) * 100\n",
    "print(ser_metstds)"
   ]
  },
  {
   "cell_type": "code",
   "execution_count": 53,
   "metadata": {},
   "outputs": [
    {
     "name": "stdout",
     "output_type": "stream",
     "text": [
      "57.009345794392516\n"
     ]
    }
   ],
   "source": [
    "# metric 17: share of external high volume services online end to end (data is already filtered for external services)\n",
    "# high volume services online end to end\n",
    "highvol_E2E = sidata[(sidata['highvolume'] == 1) & \n",
    "(sidata['onlineE2E'] == 1)]['service_id'].nunique()\n",
    "\n",
    "# high volume online enabled NA services < 6\n",
    "highvol_enabledNA = sidata[(sidata['highvolume'] == 1) &\n",
    "                           (sidata['online_enabledNA'] < 6)]['service_id'].nunique()\n",
    "\n",
    "# share of highvolume services online end to end as a percentage \n",
    "high_vol_E2E = (highvol_E2E / highvol_enabledNA) * 100\n",
    "print(high_vol_E2E)"
   ]
  },
  {
   "cell_type": "code",
   "execution_count": null,
   "metadata": {},
   "outputs": [
    {
     "name": "stdout",
     "output_type": "stream",
     "text": [
      "75.78125\n"
     ]
    }
   ],
   "source": [
    "# metric 18: share of external high volume services which have at least one point online (data is already filtered for external services)\n",
    "# high volume services with at least one point online\n",
    "highvol_1point_count = sidata[(sidata['highvolume'] == 1) & \n",
    "                              (sidata['onl_morepoints'] == 1)]['service_id'].nunique()\n",
    "# high volume services\n",
    "highvol_all_count = sidata[(sidata['highvolume'] == 1)]['service_id'].nunique()\n",
    "\n",
    "# share as a percentage\n",
    "share_highvol_1point = (highvol_1point_count / highvol_all_count) * 100\n",
    "print(share_highvol_1point)"
   ]
  },
  {
   "cell_type": "code",
   "execution_count": 55,
   "metadata": {},
   "outputs": [
    {
     "name": "stdout",
     "output_type": "stream",
     "text": [
      "50.78125\n"
     ]
    }
   ],
   "source": [
    "# metric 19: high volume services meeting service standards\n",
    "# high-volume services that meet service standards\n",
    "high_vol_ser_metstds_count = sidata[(sidata['highvolume'] == 1) & \n",
    "                                    (sidata['STDS_metsome'] == 1)]['service_id'].nunique()\n",
    "\n",
    "# share as a percentage\n",
    "high_vol_ser_metstds = (high_vol_ser_metstds_count / highvol_all_count) * 100\n",
    "print(high_vol_ser_metstds)"
   ]
  }
 ],
 "metadata": {
  "kernelspec": {
   "display_name": "Python 3",
   "language": "python",
   "name": "python3"
  },
  "language_info": {
   "codemirror_mode": {
    "name": "ipython",
    "version": 3
   },
   "file_extension": ".py",
   "mimetype": "text/x-python",
   "name": "python",
   "nbconvert_exporter": "python",
   "pygments_lexer": "ipython3",
   "version": "3.12.1"
  }
 },
 "nbformat": 4,
 "nbformat_minor": 2
}
