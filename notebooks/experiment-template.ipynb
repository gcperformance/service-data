{
 "cells": [
  {
   "cell_type": "code",
   "execution_count": 1,
   "id": "fd2d413a-666f-49d4-b86c-7d6898a496a5",
   "metadata": {},
   "outputs": [],
   "source": [
    "import pandas as pd\n",
    "import numpy as np\n",
    "import re, pytz, os, requests, sys\n",
    "from pathlib import Path\n",
    "from datetime import datetime\n",
    "import sys\n",
    "sys.path.append(\"/workspaces/service-data\")\n",
    "\n",
    "from src.clean import clean_percentage, clean_fiscal_yr, normalize_string, standardize_column_names\n",
    "from src.load import load_csv\n",
    "from src.export import export_to_csv\n",
    "from src.merge import merge_si, merge_ss\n",
    "\n",
    "base_dir = Path.cwd()\n",
    "parent_dir = base_dir.parent"
   ]
  },
  {
   "cell_type": "code",
   "execution_count": 30,
   "id": "be959c79",
   "metadata": {},
   "outputs": [],
   "source": [
    "si = pd.read_csv(\"https://github.com/gcperformance/service-data/releases/latest/download/si.csv\", \n",
    "                 keep_default_na=False, \n",
    "                 na_values='', \n",
    "                 delimiter=';'\n",
    "                 )\n",
    "\n",
    "ss = pd.read_csv(\"https://github.com/gcperformance/service-data/releases/latest/download/ss.csv\", \n",
    "                 keep_default_na=False, \n",
    "                 na_values='', \n",
    "                 delimiter=';'\n",
    "                 )"
   ]
  },
  {
   "cell_type": "code",
   "execution_count": null,
   "id": "434a0e1a",
   "metadata": {},
   "outputs": [
    {
     "data": {
      "text/plain": [
       "(559,)"
      ]
     },
     "execution_count": 38,
     "metadata": {},
     "output_type": "execute_result"
    }
   ],
   "source": [
    "si_drf = si.loc[:, ['service_id', 'fiscal_yr', 'program_id', 'org_id']]\n",
    "si_drf['program_id'] = si_drf['program_id'].str.split(',')\n",
    "si_drf = si_drf.explode('program_id')\n",
    "si_drf = si_drf[si_drf['program_id'].notna()]\n",
    "\n",
    "# si_drf = si_drf.loc[si_drf['fiscal_yr']=='2023-2024']\n",
    "\n",
    "si_drf['program_id'].unique().shape"
   ]
  }
 ],
 "metadata": {
  "kernelspec": {
   "display_name": "Python 3",
   "language": "python",
   "name": "python3"
  },
  "language_info": {
   "codemirror_mode": {
    "name": "ipython",
    "version": 3
   },
   "file_extension": ".py",
   "mimetype": "text/x-python",
   "name": "python",
   "nbconvert_exporter": "python",
   "pygments_lexer": "ipython3",
   "version": "3.12.1"
  }
 },
 "nbformat": 4,
 "nbformat_minor": 5
}
