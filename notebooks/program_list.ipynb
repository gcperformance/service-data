{
 "cells": [
  {
   "cell_type": "code",
   "execution_count": 2,
   "id": "fd2d413a-666f-49d4-b86c-7d6898a496a5",
   "metadata": {},
   "outputs": [],
   "source": [
    "import pandas as pd\n",
    "import numpy as np\n",
    "import re, pytz, os, requests, sys\n",
    "from pathlib import Path\n",
    "from datetime import datetime\n",
    "import sys\n",
    "sys.path.append(\"/workspaces/service-data\")\n",
    "\n",
    "from src.clean import clean_percentage, clean_fiscal_yr, normalize_string, standardize_column_names\n",
    "from src.load import load_csv, download_csv_files\n",
    "from src.export import export_to_csv\n",
    "from src.merge import merge_si, merge_ss\n",
    "from main import get_config\n",
    "\n",
    "\n",
    "base_dir = Path.cwd()\n",
    "parent_dir = base_dir.parent"
   ]
  },
  {
   "cell_type": "code",
   "execution_count": 3,
   "id": "be959c79",
   "metadata": {},
   "outputs": [
    {
     "name": "stdout",
     "output_type": "stream",
     "text": [
      "Downloaded: si_2018.csv\n",
      "Downloaded: si_2024.csv\n",
      "Downloaded: ss_2018.csv\n",
      "Downloaded: ss_2024.csv\n",
      "Downloaded: org_var.csv\n",
      "Downloaded: sid_registry.csv\n",
      "Downloaded: serv_prog.csv\n",
      "Downloaded: ifoi_en.csv\n",
      "Downloaded: ifoi_fr.csv\n",
      "Downloaded: rbpo.csv\n"
     ]
    }
   ],
   "source": [
    "# si = pd.read_csv(\"https://github.com/gcperformance/service-data/releases/latest/download/si.csv\", \n",
    "#                  keep_default_na=False, \n",
    "#                  na_values='', \n",
    "#                  delimiter=';'\n",
    "#                  )\n",
    "\n",
    "# ss = pd.read_csv(\"https://github.com/gcperformance/service-data/releases/latest/download/ss.csv\", \n",
    "#                  keep_default_na=False, \n",
    "#                  na_values='', \n",
    "#                  delimiter=';'\n",
    "#                  )\n",
    "\n",
    "config=get_config()\n",
    "download_csv_files(config)\n",
    "org_var = load_csv('org_var.csv', config, snapshot=False)"
   ]
  },
  {
   "cell_type": "code",
   "execution_count": 4,
   "id": "434a0e1a",
   "metadata": {},
   "outputs": [
    {
     "data": {
      "application/vnd.microsoft.datawrangler.viewer.v0+json": {
       "columns": [
        {
         "name": "index",
         "rawType": "int64",
         "type": "integer"
        },
        {
         "name": "org_id",
         "rawType": "float64",
         "type": "float"
        },
        {
         "name": "program_id",
         "rawType": "object",
         "type": "string"
        },
        {
         "name": "fiscal_yr",
         "rawType": "object",
         "type": "string"
        },
        {
         "name": "program_en",
         "rawType": "object",
         "type": "string"
        },
        {
         "name": "program_fr",
         "rawType": "object",
         "type": "string"
        }
       ],
       "ref": "583546fe-0204-4a76-aecc-f612faff6ce6",
       "rows": [
        [
         "9018",
         "1.0",
         "BWN01",
         "2025-2026",
         "Trade and Market Expansion",
         "Croissance du commerce et des marchés"
        ],
        [
         "9019",
         "1.0",
         "BWN02",
         "2025-2026",
         "Sector Engagement and Development",
         "Mobilisation et développement du secteur"
        ],
        [
         "9020",
         "1.0",
         "BWN03",
         "2025-2026",
         "Farm Products Council of Canada",
         "Conseil des produits agricoles du Canada"
        ],
        [
         "9021",
         "1.0",
         "BWN04",
         "2025-2026",
         "Supply Management Initiatives",
         "Initiatives de gestion de l'offre"
        ],
        [
         "9022",
         "1.0",
         "BWN05",
         "2025-2026",
         "Canadian Pari-Mutuel Agency",
         "Agence canadienne du pari mutuel"
        ],
        [
         "2638",
         "1.0",
         "BWN06",
         "2020-2021",
         "Water Infrastructure",
         "Infrastructure hydraulique"
        ],
        [
         "9023",
         "1.0",
         "BWN07",
         "2025-2026",
         "Federal, Provincial and Territorial Cost-shared Markets and Trade",
         "Programmes à frais partagés fédéral, provinciaux et territoriaux reliés aux marchés et au commerce"
        ],
        [
         "7",
         "1.0",
         "BWN08",
         "2018-2019",
         "Community Pastures",
         "Pâturages communautaires"
        ],
        [
         "9024",
         "1.0",
         "BWN09",
         "2025-2026",
         "Food Policy Initiatives",
         "Initiatives relatives à la politique alimentaire"
        ],
        [
         "9025",
         "1.0",
         "BWN10",
         "2025-2026",
         "Water Infrastructure Divesture",
         "Cession des infrastructures hydrauliques"
        ],
        [
         "9026",
         "1.0",
         "BWO01",
         "2025-2026",
         "Foundational Science and Research",
         "Science et recherche fondamentales"
        ],
        [
         "9027",
         "1.0",
         "BWO02",
         "2025-2026",
         "AgriScience",
         "Agri-science"
        ],
        [
         "9028",
         "1.0",
         "BWO03",
         "2025-2026",
         "AgriInnovate",
         "Agri-innover"
        ],
        [
         "9029",
         "1.0",
         "BWO04",
         "2025-2026",
         "Environment and Climate Change Programs",
         "Programmes en matière d'environnement et de changements climatiques"
        ],
        [
         "9030",
         "1.0",
         "BWO05",
         "2025-2026",
         "Canadian Agricultural Strategic Priorities Program",
         "Programme canadien des priorités stratégiques de l'agriculture"
        ],
        [
         "9031",
         "1.0",
         "BWO06",
         "2025-2026",
         "Federal, Provincial and Territorial Cost-shared Science, Research, Innovation and Environment",
         "Programmes à frais partagés fédéral, provinciaux et territoriaux reliés à la science, à la recherche, à l'innovation et à l'environnement"
        ],
        [
         "9032",
         "1.0",
         "BWP01",
         "2025-2026",
         "AgriStability",
         "Agri-stabilité"
        ],
        [
         "9033",
         "1.0",
         "BWP02",
         "2025-2026",
         "AgriInvest",
         "Agri-investissement"
        ],
        [
         "9034",
         "1.0",
         "BWP03",
         "2025-2026",
         "AgriRecovery",
         "Agri-relance"
        ],
        [
         "9035",
         "1.0",
         "BWP04",
         "2025-2026",
         "AgriInsurance",
         "Agri-protection"
        ],
        [
         "5218",
         "1.0",
         "BWP05",
         "2022-2023",
         "AgriRisk",
         "Agri-risques"
        ],
        [
         "9036",
         "1.0",
         "BWP06",
         "2025-2026",
         "Loan Guarantee Programs",
         "Programmes de garantie de prêts"
        ],
        [
         "9037",
         "1.0",
         "BWP07",
         "2025-2026",
         "Farm Debt Mediation Service",
         "Service de médiation en matière d'endettement agricole"
        ],
        [
         "9038",
         "1.0",
         "BWP08",
         "2025-2026",
         "Pest Management",
         "Lutte antiparasitaire"
        ],
        [
         "9039",
         "1.0",
         "BWP09",
         "2025-2026",
         "Assurance Program",
         "Programme d'assurance"
        ],
        [
         "9040",
         "1.0",
         "BWP10",
         "2025-2026",
         "Federal, Provincial and Territorial Cost-shared Assurance",
         "Programmes à frais partagés fédéral, provinciaux et territoriaux reliés à l'assurance"
        ],
        [
         "9041",
         "1.0",
         "BWP11",
         "2025-2026",
         "Return of Payments",
         "Retour de paiements"
        ],
        [
         "3952",
         "1.0",
         "BWP12",
         "2021-2022",
         "Mandatory Isolation Support for Temporary Foreign Workers Program",
         "Programme d'aide pour l'isolement obligatoire des travailleurs étrangers temporaires"
        ],
        [
         "9042",
         "1.0",
         "BWP13",
         "2025-2026",
         "African Swine Fever Response",
         "Intervention en cas d'éclosion de la peste porcine africaine"
        ],
        [
         "9043",
         "1.0",
         "BWP14",
         "2025-2026",
         "Livestock Price Insurance Program",
         "Programme d'assurance des prix du bétail"
        ],
        [
         "9044",
         "1.0",
         "ISS01",
         "2025-2026",
         "Management and Oversight Services",
         "Services de gestion et de surveillance"
        ],
        [
         "9045",
         "1.0",
         "ISS02",
         "2025-2026",
         "Communications Services",
         "Services de communication"
        ],
        [
         "9046",
         "1.0",
         "ISS03",
         "2025-2026",
         "Legal Services",
         "Services juridiques"
        ],
        [
         "9047",
         "1.0",
         "ISS04",
         "2025-2026",
         "Human Resources Management Services",
         "Services de gestion des ressources humaines"
        ],
        [
         "9048",
         "1.0",
         "ISS05",
         "2025-2026",
         "Financial Management Services",
         "Services de gestion financière"
        ],
        [
         "9049",
         "1.0",
         "ISS06",
         "2025-2026",
         "Information Management Services",
         "Services de gestion de l'information"
        ],
        [
         "9050",
         "1.0",
         "ISS07",
         "2025-2026",
         "Information Technology Services",
         "Services de la technologie de l'information"
        ],
        [
         "9051",
         "1.0",
         "ISS08",
         "2025-2026",
         "Real Property Management Services",
         "Services de gestion des biens immobiliers"
        ],
        [
         "9052",
         "1.0",
         "ISS09",
         "2025-2026",
         "Materiel Management Services",
         "Services de gestion du matériel"
        ],
        [
         "9053",
         "1.0",
         "ISS0Z",
         "2025-2026",
         "Acquisition Management Services",
         "Services de gestion des acquisitions"
        ],
        [
         "26",
         "1.0",
         "ISSA1",
         "2018-2019",
         "Management and Oversight Services",
         "Services de gestion et de surveillance"
        ],
        [
         "27",
         "1.0",
         "ISSA2",
         "2018-2019",
         "Communications Services",
         "Services de communication"
        ],
        [
         "28",
         "1.0",
         "ISSA3",
         "2018-2019",
         "Legal Services",
         "Services juridiques"
        ],
        [
         "29",
         "1.0",
         "ISSA4",
         "2018-2019",
         "Human Resources Management Services",
         "Services de gestion des ressources humaines"
        ],
        [
         "30",
         "1.0",
         "ISSA5",
         "2018-2019",
         "Financial Management Services",
         "Services de gestion financière"
        ],
        [
         "31",
         "1.0",
         "ISSA6",
         "2018-2019",
         "Information Management Services",
         "Services de gestion de l'information"
        ],
        [
         "35",
         "1.0",
         "ISSA7",
         "2018-2019",
         "Information Technology Management Services",
         "Services de gestion de la technologie de l'information"
        ],
        [
         "36",
         "1.0",
         "ISSA8",
         "2018-2019",
         "Real Property Management Services",
         "Services de gestion des biens immobiliers"
        ],
        [
         "37",
         "1.0",
         "ISSA9",
         "2018-2019",
         "Materiel Management Services",
         "Services de gestion du matériel"
        ],
        [
         "47",
         "1.0",
         "ISSAZ",
         "2018-2019",
         "Acquisition Management Services",
         "Services de gestion des acquisitions"
        ]
       ],
       "shape": {
        "columns": 5,
        "rows": 1946
       }
      },
      "text/html": [
       "<div>\n",
       "<style scoped>\n",
       "    .dataframe tbody tr th:only-of-type {\n",
       "        vertical-align: middle;\n",
       "    }\n",
       "\n",
       "    .dataframe tbody tr th {\n",
       "        vertical-align: top;\n",
       "    }\n",
       "\n",
       "    .dataframe thead th {\n",
       "        text-align: right;\n",
       "    }\n",
       "</style>\n",
       "<table border=\"1\" class=\"dataframe\">\n",
       "  <thead>\n",
       "    <tr style=\"text-align: right;\">\n",
       "      <th></th>\n",
       "      <th>org_id</th>\n",
       "      <th>program_id</th>\n",
       "      <th>fiscal_yr</th>\n",
       "      <th>program_en</th>\n",
       "      <th>program_fr</th>\n",
       "    </tr>\n",
       "  </thead>\n",
       "  <tbody>\n",
       "    <tr>\n",
       "      <th>9018</th>\n",
       "      <td>1.0</td>\n",
       "      <td>BWN01</td>\n",
       "      <td>2025-2026</td>\n",
       "      <td>Trade and Market Expansion</td>\n",
       "      <td>Croissance du commerce et des marchés</td>\n",
       "    </tr>\n",
       "    <tr>\n",
       "      <th>9019</th>\n",
       "      <td>1.0</td>\n",
       "      <td>BWN02</td>\n",
       "      <td>2025-2026</td>\n",
       "      <td>Sector Engagement and Development</td>\n",
       "      <td>Mobilisation et développement du secteur</td>\n",
       "    </tr>\n",
       "    <tr>\n",
       "      <th>9020</th>\n",
       "      <td>1.0</td>\n",
       "      <td>BWN03</td>\n",
       "      <td>2025-2026</td>\n",
       "      <td>Farm Products Council of Canada</td>\n",
       "      <td>Conseil des produits agricoles du Canada</td>\n",
       "    </tr>\n",
       "    <tr>\n",
       "      <th>9021</th>\n",
       "      <td>1.0</td>\n",
       "      <td>BWN04</td>\n",
       "      <td>2025-2026</td>\n",
       "      <td>Supply Management Initiatives</td>\n",
       "      <td>Initiatives de gestion de l'offre</td>\n",
       "    </tr>\n",
       "    <tr>\n",
       "      <th>9022</th>\n",
       "      <td>1.0</td>\n",
       "      <td>BWN05</td>\n",
       "      <td>2025-2026</td>\n",
       "      <td>Canadian Pari-Mutuel Agency</td>\n",
       "      <td>Agence canadienne du pari mutuel</td>\n",
       "    </tr>\n",
       "    <tr>\n",
       "      <th>...</th>\n",
       "      <td>...</td>\n",
       "      <td>...</td>\n",
       "      <td>...</td>\n",
       "      <td>...</td>\n",
       "      <td>...</td>\n",
       "    </tr>\n",
       "    <tr>\n",
       "      <th>10233</th>\n",
       "      <td>561.0</td>\n",
       "      <td>ISS00</td>\n",
       "      <td>2025-2026</td>\n",
       "      <td>Internal services</td>\n",
       "      <td>Services internes</td>\n",
       "    </tr>\n",
       "    <tr>\n",
       "      <th>10234</th>\n",
       "      <td>562.0</td>\n",
       "      <td>BYQ00</td>\n",
       "      <td>2025-2026</td>\n",
       "      <td>VIA HFR – VIA TGF Inc</td>\n",
       "      <td>VIA HFR – VIA TGF Inc</td>\n",
       "    </tr>\n",
       "    <tr>\n",
       "      <th>10235</th>\n",
       "      <td>563.0</td>\n",
       "      <td>BYR01</td>\n",
       "      <td>2025-2026</td>\n",
       "      <td>Freshwater Management</td>\n",
       "      <td>Gestion de l'eau douce</td>\n",
       "    </tr>\n",
       "    <tr>\n",
       "      <th>10236</th>\n",
       "      <td>563.0</td>\n",
       "      <td>BYR02</td>\n",
       "      <td>2025-2026</td>\n",
       "      <td>Freshwater Policy and Engagement</td>\n",
       "      <td>Politique et mobilisation de l'eau douce</td>\n",
       "    </tr>\n",
       "    <tr>\n",
       "      <th>10237</th>\n",
       "      <td>563.0</td>\n",
       "      <td>ISS30</td>\n",
       "      <td>2025-2026</td>\n",
       "      <td>Internal services</td>\n",
       "      <td>Services internes</td>\n",
       "    </tr>\n",
       "  </tbody>\n",
       "</table>\n",
       "<p>1946 rows × 5 columns</p>\n",
       "</div>"
      ],
      "text/plain": [
       "       org_id program_id  fiscal_yr                         program_en  \\\n",
       "9018      1.0      BWN01  2025-2026         Trade and Market Expansion   \n",
       "9019      1.0      BWN02  2025-2026  Sector Engagement and Development   \n",
       "9020      1.0      BWN03  2025-2026    Farm Products Council of Canada   \n",
       "9021      1.0      BWN04  2025-2026      Supply Management Initiatives   \n",
       "9022      1.0      BWN05  2025-2026        Canadian Pari-Mutuel Agency   \n",
       "...       ...        ...        ...                                ...   \n",
       "10233   561.0      ISS00  2025-2026                  Internal services   \n",
       "10234   562.0      BYQ00  2025-2026              VIA HFR – VIA TGF Inc   \n",
       "10235   563.0      BYR01  2025-2026              Freshwater Management   \n",
       "10236   563.0      BYR02  2025-2026   Freshwater Policy and Engagement   \n",
       "10237   563.0      ISS30  2025-2026                  Internal services   \n",
       "\n",
       "                                     program_fr  \n",
       "9018      Croissance du commerce et des marchés  \n",
       "9019   Mobilisation et développement du secteur  \n",
       "9020   Conseil des produits agricoles du Canada  \n",
       "9021          Initiatives de gestion de l'offre  \n",
       "9022           Agence canadienne du pari mutuel  \n",
       "...                                         ...  \n",
       "10233                         Services internes  \n",
       "10234                     VIA HFR – VIA TGF Inc  \n",
       "10235                    Gestion de l'eau douce  \n",
       "10236  Politique et mobilisation de l'eau douce  \n",
       "10237                         Services internes  \n",
       "\n",
       "[1946 rows x 5 columns]"
      ]
     },
     "execution_count": 4,
     "metadata": {},
     "output_type": "execute_result"
    }
   ],
   "source": [
    "frames_en = []\n",
    "frames_fr = []\n",
    "\n",
    "for fiscal_yr, url in get_config()['program_csv_urls_en'].items():\n",
    "    filename = url[(url.rfind('/')+1):url.rfind('.')]\n",
    "    # print(filename)\n",
    "    \n",
    "    df = pd.read_csv(url)\n",
    "    df['filename'] = filename\n",
    "    df['fiscal_yr'] = fiscal_yr\n",
    "    frames_en += [df]\n",
    "\n",
    "for fiscal_yr, url in get_config()['program_csv_urls_fr'].items():\n",
    "    filename = url[(url.rfind('/')+1):url.rfind('.')]\n",
    "    # print(filename)\n",
    "    \n",
    "    df = pd.read_csv(url)\n",
    "    df['filename'] = filename\n",
    "    df['fiscal_yr'] = fiscal_yr\n",
    "    frames_fr += [df]\n",
    "\n",
    "program_df_en = pd.concat(frames_en)\n",
    "program_df_en = program_df_en.merge(org_var, how='left', left_on='EntityDept_name_Eng-EntitéMin_nom_ang', right_on='org_name_variant')\n",
    "program_df_en['program_id'] = program_df_en['ProgramInventory-Répertoiredesprogrammes_code_PROG'].combine_first(program_df_en['ProgramorCoreResponsibility-ProgrammeouResponsabilitéessentielle_code_PROG'])\n",
    "program_df_en['program_en'] = program_df_en['ProgramInventory_name-Répertoiredesprogrammes_nom_PROG'].combine_first(program_df_en['ProgramorCoreResponsibility_name-ProgrammeouResponsabilitéessentielle_nom_PROG'])\n",
    "\n",
    "program_df_en.set_index(['fiscal_yr', 'org_id', 'program_id'], inplace=True)\n",
    "\n",
    "program_df_fr = pd.concat(frames_fr)\n",
    "program_df_fr = program_df_fr.merge(org_var, how='left', left_on='EntityDept_name_fra-EntitéMin_nom_fra', right_on='org_name_variant')\n",
    "program_df_fr['program_id'] = program_df_fr['ProgramInventory-Répertoiredesprogrammes_code_PROG'].combine_first(program_df_fr['ProgramorCoreResponsibility-ProgrammeouResponsabilitéessentielle_code_PROG'])\n",
    "program_df_fr['program_fr'] = program_df_fr['ProgramInventory_name-Répertoiredesprogrammes_nom_PROG'].combine_first(program_df_fr['ProgramorCoreResponsibility_name-ProgrammeouResponsabilitéessentielle_nom_PROG'])\n",
    "\n",
    "program_df_fr.set_index(['fiscal_yr', 'org_id', 'program_id'], inplace=True)\n",
    "\n",
    "program_df = pd.merge(program_df_en, program_df_fr, how='outer', right_index=True, left_index=True, suffixes=['_en', '_fr'], indicator=True)\n",
    "program_df = program_df.loc[:, ['program_en', 'program_fr']].reset_index()\n",
    "\n",
    "program_df = program_df.sort_values('fiscal_yr')\n",
    "\n",
    "# Then, group by org_id and code, and get the index of the latest fiscal year\n",
    "latest_idx = program_df.groupby(['org_id', 'program_id'])['fiscal_yr'].idxmax()\n",
    "\n",
    "# Use those indices to extract the rows\n",
    "program_df = program_df.loc[latest_idx, ['org_id', 'program_id', 'fiscal_yr', 'program_en', 'program_fr']]\n",
    "\n",
    "program_df\n"
   ]
  },
  {
   "cell_type": "code",
   "execution_count": null,
   "id": "d92f27df",
   "metadata": {},
   "outputs": [
    {
     "data": {
      "application/vnd.microsoft.datawrangler.viewer.v0+json": {
       "columns": [
        {
         "name": "index",
         "rawType": "int64",
         "type": "integer"
        },
        {
         "name": "org_id",
         "rawType": "float64",
         "type": "float"
        },
        {
         "name": "program_id",
         "rawType": "object",
         "type": "string"
        },
        {
         "name": "fiscal_yr",
         "rawType": "object",
         "type": "string"
        },
        {
         "name": "program_en",
         "rawType": "object",
         "type": "string"
        },
        {
         "name": "program_fr",
         "rawType": "object",
         "type": "string"
        }
       ],
       "ref": "69388348-d8e7-4579-a74f-d7b3612a472c",
       "rows": [
        [
         "9018",
         "1.0",
         "BWN01",
         "2025-2026",
         "Trade and Market Expansion",
         "Croissance du commerce et des marchés"
        ],
        [
         "9019",
         "1.0",
         "BWN02",
         "2025-2026",
         "Sector Engagement and Development",
         "Mobilisation et développement du secteur"
        ],
        [
         "9020",
         "1.0",
         "BWN03",
         "2025-2026",
         "Farm Products Council of Canada",
         "Conseil des produits agricoles du Canada"
        ],
        [
         "9021",
         "1.0",
         "BWN04",
         "2025-2026",
         "Supply Management Initiatives",
         "Initiatives de gestion de l'offre"
        ],
        [
         "9022",
         "1.0",
         "BWN05",
         "2025-2026",
         "Canadian Pari-Mutuel Agency",
         "Agence canadienne du pari mutuel"
        ],
        [
         "2638",
         "1.0",
         "BWN06",
         "2020-2021",
         "Water Infrastructure",
         "Infrastructure hydraulique"
        ],
        [
         "9023",
         "1.0",
         "BWN07",
         "2025-2026",
         "Federal, Provincial and Territorial Cost-shared Markets and Trade",
         "Programmes à frais partagés fédéral, provinciaux et territoriaux reliés aux marchés et au commerce"
        ],
        [
         "7",
         "1.0",
         "BWN08",
         "2018-2019",
         "Community Pastures",
         "Pâturages communautaires"
        ],
        [
         "9024",
         "1.0",
         "BWN09",
         "2025-2026",
         "Food Policy Initiatives",
         "Initiatives relatives à la politique alimentaire"
        ],
        [
         "9025",
         "1.0",
         "BWN10",
         "2025-2026",
         "Water Infrastructure Divesture",
         "Cession des infrastructures hydrauliques"
        ],
        [
         "9026",
         "1.0",
         "BWO01",
         "2025-2026",
         "Foundational Science and Research",
         "Science et recherche fondamentales"
        ],
        [
         "9027",
         "1.0",
         "BWO02",
         "2025-2026",
         "AgriScience",
         "Agri-science"
        ],
        [
         "9028",
         "1.0",
         "BWO03",
         "2025-2026",
         "AgriInnovate",
         "Agri-innover"
        ],
        [
         "9029",
         "1.0",
         "BWO04",
         "2025-2026",
         "Environment and Climate Change Programs",
         "Programmes en matière d'environnement et de changements climatiques"
        ],
        [
         "9030",
         "1.0",
         "BWO05",
         "2025-2026",
         "Canadian Agricultural Strategic Priorities Program",
         "Programme canadien des priorités stratégiques de l'agriculture"
        ],
        [
         "9031",
         "1.0",
         "BWO06",
         "2025-2026",
         "Federal, Provincial and Territorial Cost-shared Science, Research, Innovation and Environment",
         "Programmes à frais partagés fédéral, provinciaux et territoriaux reliés à la science, à la recherche, à l'innovation et à l'environnement"
        ],
        [
         "9032",
         "1.0",
         "BWP01",
         "2025-2026",
         "AgriStability",
         "Agri-stabilité"
        ],
        [
         "9033",
         "1.0",
         "BWP02",
         "2025-2026",
         "AgriInvest",
         "Agri-investissement"
        ],
        [
         "9034",
         "1.0",
         "BWP03",
         "2025-2026",
         "AgriRecovery",
         "Agri-relance"
        ],
        [
         "9035",
         "1.0",
         "BWP04",
         "2025-2026",
         "AgriInsurance",
         "Agri-protection"
        ],
        [
         "5218",
         "1.0",
         "BWP05",
         "2022-2023",
         "AgriRisk",
         "Agri-risques"
        ],
        [
         "9036",
         "1.0",
         "BWP06",
         "2025-2026",
         "Loan Guarantee Programs",
         "Programmes de garantie de prêts"
        ],
        [
         "9037",
         "1.0",
         "BWP07",
         "2025-2026",
         "Farm Debt Mediation Service",
         "Service de médiation en matière d'endettement agricole"
        ],
        [
         "9038",
         "1.0",
         "BWP08",
         "2025-2026",
         "Pest Management",
         "Lutte antiparasitaire"
        ],
        [
         "9039",
         "1.0",
         "BWP09",
         "2025-2026",
         "Assurance Program",
         "Programme d'assurance"
        ],
        [
         "9040",
         "1.0",
         "BWP10",
         "2025-2026",
         "Federal, Provincial and Territorial Cost-shared Assurance",
         "Programmes à frais partagés fédéral, provinciaux et territoriaux reliés à l'assurance"
        ],
        [
         "9041",
         "1.0",
         "BWP11",
         "2025-2026",
         "Return of Payments",
         "Retour de paiements"
        ],
        [
         "3952",
         "1.0",
         "BWP12",
         "2021-2022",
         "Mandatory Isolation Support for Temporary Foreign Workers Program",
         "Programme d'aide pour l'isolement obligatoire des travailleurs étrangers temporaires"
        ],
        [
         "9042",
         "1.0",
         "BWP13",
         "2025-2026",
         "African Swine Fever Response",
         "Intervention en cas d'éclosion de la peste porcine africaine"
        ],
        [
         "9043",
         "1.0",
         "BWP14",
         "2025-2026",
         "Livestock Price Insurance Program",
         "Programme d'assurance des prix du bétail"
        ],
        [
         "9044",
         "1.0",
         "ISS01",
         "2025-2026",
         "Management and Oversight Services",
         "Services de gestion et de surveillance"
        ],
        [
         "9045",
         "1.0",
         "ISS02",
         "2025-2026",
         "Communications Services",
         "Services de communication"
        ],
        [
         "9046",
         "1.0",
         "ISS03",
         "2025-2026",
         "Legal Services",
         "Services juridiques"
        ],
        [
         "9047",
         "1.0",
         "ISS04",
         "2025-2026",
         "Human Resources Management Services",
         "Services de gestion des ressources humaines"
        ],
        [
         "9048",
         "1.0",
         "ISS05",
         "2025-2026",
         "Financial Management Services",
         "Services de gestion financière"
        ],
        [
         "9049",
         "1.0",
         "ISS06",
         "2025-2026",
         "Information Management Services",
         "Services de gestion de l'information"
        ],
        [
         "9050",
         "1.0",
         "ISS07",
         "2025-2026",
         "Information Technology Services",
         "Services de la technologie de l'information"
        ],
        [
         "9051",
         "1.0",
         "ISS08",
         "2025-2026",
         "Real Property Management Services",
         "Services de gestion des biens immobiliers"
        ],
        [
         "9052",
         "1.0",
         "ISS09",
         "2025-2026",
         "Materiel Management Services",
         "Services de gestion du matériel"
        ],
        [
         "9053",
         "1.0",
         "ISS0Z",
         "2025-2026",
         "Acquisition Management Services",
         "Services de gestion des acquisitions"
        ],
        [
         "26",
         "1.0",
         "ISSA1",
         "2018-2019",
         "Management and Oversight Services",
         "Services de gestion et de surveillance"
        ],
        [
         "27",
         "1.0",
         "ISSA2",
         "2018-2019",
         "Communications Services",
         "Services de communication"
        ],
        [
         "28",
         "1.0",
         "ISSA3",
         "2018-2019",
         "Legal Services",
         "Services juridiques"
        ],
        [
         "29",
         "1.0",
         "ISSA4",
         "2018-2019",
         "Human Resources Management Services",
         "Services de gestion des ressources humaines"
        ],
        [
         "30",
         "1.0",
         "ISSA5",
         "2018-2019",
         "Financial Management Services",
         "Services de gestion financière"
        ],
        [
         "31",
         "1.0",
         "ISSA6",
         "2018-2019",
         "Information Management Services",
         "Services de gestion de l'information"
        ],
        [
         "35",
         "1.0",
         "ISSA7",
         "2018-2019",
         "Information Technology Management Services",
         "Services de gestion de la technologie de l'information"
        ],
        [
         "36",
         "1.0",
         "ISSA8",
         "2018-2019",
         "Real Property Management Services",
         "Services de gestion des biens immobiliers"
        ],
        [
         "37",
         "1.0",
         "ISSA9",
         "2018-2019",
         "Materiel Management Services",
         "Services de gestion du matériel"
        ],
        [
         "47",
         "1.0",
         "ISSAZ",
         "2018-2019",
         "Acquisition Management Services",
         "Services de gestion des acquisitions"
        ]
       ],
       "shape": {
        "columns": 5,
        "rows": 1946
       }
      },
      "text/html": [
       "<div>\n",
       "<style scoped>\n",
       "    .dataframe tbody tr th:only-of-type {\n",
       "        vertical-align: middle;\n",
       "    }\n",
       "\n",
       "    .dataframe tbody tr th {\n",
       "        vertical-align: top;\n",
       "    }\n",
       "\n",
       "    .dataframe thead th {\n",
       "        text-align: right;\n",
       "    }\n",
       "</style>\n",
       "<table border=\"1\" class=\"dataframe\">\n",
       "  <thead>\n",
       "    <tr style=\"text-align: right;\">\n",
       "      <th></th>\n",
       "      <th>org_id</th>\n",
       "      <th>program_id</th>\n",
       "      <th>fiscal_yr</th>\n",
       "      <th>program_en</th>\n",
       "      <th>program_fr</th>\n",
       "    </tr>\n",
       "  </thead>\n",
       "  <tbody>\n",
       "    <tr>\n",
       "      <th>9018</th>\n",
       "      <td>1.0</td>\n",
       "      <td>BWN01</td>\n",
       "      <td>2025-2026</td>\n",
       "      <td>Trade and Market Expansion</td>\n",
       "      <td>Croissance du commerce et des marchés</td>\n",
       "    </tr>\n",
       "    <tr>\n",
       "      <th>9019</th>\n",
       "      <td>1.0</td>\n",
       "      <td>BWN02</td>\n",
       "      <td>2025-2026</td>\n",
       "      <td>Sector Engagement and Development</td>\n",
       "      <td>Mobilisation et développement du secteur</td>\n",
       "    </tr>\n",
       "    <tr>\n",
       "      <th>9020</th>\n",
       "      <td>1.0</td>\n",
       "      <td>BWN03</td>\n",
       "      <td>2025-2026</td>\n",
       "      <td>Farm Products Council of Canada</td>\n",
       "      <td>Conseil des produits agricoles du Canada</td>\n",
       "    </tr>\n",
       "    <tr>\n",
       "      <th>9021</th>\n",
       "      <td>1.0</td>\n",
       "      <td>BWN04</td>\n",
       "      <td>2025-2026</td>\n",
       "      <td>Supply Management Initiatives</td>\n",
       "      <td>Initiatives de gestion de l'offre</td>\n",
       "    </tr>\n",
       "    <tr>\n",
       "      <th>9022</th>\n",
       "      <td>1.0</td>\n",
       "      <td>BWN05</td>\n",
       "      <td>2025-2026</td>\n",
       "      <td>Canadian Pari-Mutuel Agency</td>\n",
       "      <td>Agence canadienne du pari mutuel</td>\n",
       "    </tr>\n",
       "    <tr>\n",
       "      <th>...</th>\n",
       "      <td>...</td>\n",
       "      <td>...</td>\n",
       "      <td>...</td>\n",
       "      <td>...</td>\n",
       "      <td>...</td>\n",
       "    </tr>\n",
       "    <tr>\n",
       "      <th>10233</th>\n",
       "      <td>561.0</td>\n",
       "      <td>ISS00</td>\n",
       "      <td>2025-2026</td>\n",
       "      <td>Internal services</td>\n",
       "      <td>Services internes</td>\n",
       "    </tr>\n",
       "    <tr>\n",
       "      <th>10234</th>\n",
       "      <td>562.0</td>\n",
       "      <td>BYQ00</td>\n",
       "      <td>2025-2026</td>\n",
       "      <td>VIA HFR – VIA TGF Inc</td>\n",
       "      <td>VIA HFR – VIA TGF Inc</td>\n",
       "    </tr>\n",
       "    <tr>\n",
       "      <th>10235</th>\n",
       "      <td>563.0</td>\n",
       "      <td>BYR01</td>\n",
       "      <td>2025-2026</td>\n",
       "      <td>Freshwater Management</td>\n",
       "      <td>Gestion de l'eau douce</td>\n",
       "    </tr>\n",
       "    <tr>\n",
       "      <th>10236</th>\n",
       "      <td>563.0</td>\n",
       "      <td>BYR02</td>\n",
       "      <td>2025-2026</td>\n",
       "      <td>Freshwater Policy and Engagement</td>\n",
       "      <td>Politique et mobilisation de l'eau douce</td>\n",
       "    </tr>\n",
       "    <tr>\n",
       "      <th>10237</th>\n",
       "      <td>563.0</td>\n",
       "      <td>ISS30</td>\n",
       "      <td>2025-2026</td>\n",
       "      <td>Internal services</td>\n",
       "      <td>Services internes</td>\n",
       "    </tr>\n",
       "  </tbody>\n",
       "</table>\n",
       "<p>1946 rows × 5 columns</p>\n",
       "</div>"
      ],
      "text/plain": [
       "       org_id program_id  fiscal_yr                         program_en  \\\n",
       "9018      1.0      BWN01  2025-2026         Trade and Market Expansion   \n",
       "9019      1.0      BWN02  2025-2026  Sector Engagement and Development   \n",
       "9020      1.0      BWN03  2025-2026    Farm Products Council of Canada   \n",
       "9021      1.0      BWN04  2025-2026      Supply Management Initiatives   \n",
       "9022      1.0      BWN05  2025-2026        Canadian Pari-Mutuel Agency   \n",
       "...       ...        ...        ...                                ...   \n",
       "10233   561.0      ISS00  2025-2026                  Internal services   \n",
       "10234   562.0      BYQ00  2025-2026              VIA HFR – VIA TGF Inc   \n",
       "10235   563.0      BYR01  2025-2026              Freshwater Management   \n",
       "10236   563.0      BYR02  2025-2026   Freshwater Policy and Engagement   \n",
       "10237   563.0      ISS30  2025-2026                  Internal services   \n",
       "\n",
       "                                     program_fr  \n",
       "9018      Croissance du commerce et des marchés  \n",
       "9019   Mobilisation et développement du secteur  \n",
       "9020   Conseil des produits agricoles du Canada  \n",
       "9021          Initiatives de gestion de l'offre  \n",
       "9022           Agence canadienne du pari mutuel  \n",
       "...                                         ...  \n",
       "10233                         Services internes  \n",
       "10234                     VIA HFR – VIA TGF Inc  \n",
       "10235                    Gestion de l'eau douce  \n",
       "10236  Politique et mobilisation de l'eau douce  \n",
       "10237                         Services internes  \n",
       "\n",
       "[1946 rows x 5 columns]"
      ]
     },
     "execution_count": 6,
     "metadata": {},
     "output_type": "execute_result"
    }
   ],
   "source": [
    "frames_en = []\n",
    "frames_fr = []\n",
    "\n",
    "df = pd.DataFrame\n",
    "\n",
    "for fiscal_yr, url in get_config()['program_csv_urls_en'].items():\n",
    "    filename = url.split('/')[-1].split('.')[0]\n",
    "    \n",
    "    df = pd.read_csv(url)\n",
    "    df['filename'] = filename\n",
    "    df['fiscal_yr'] = fiscal_yr\n",
    "    frames_en += [df]\n",
    "\n",
    "for fiscal_yr, url in get_config()['program_csv_urls_fr'].items():\n",
    "    filename = url.split('/')[-1].split('.')[0]\n",
    "\n",
    "    df = pd.read_csv(url)\n",
    "    df['filename'] = filename\n",
    "    df['fiscal_yr'] = fiscal_yr\n",
    "    frames_fr += [df]\n",
    "\n",
    "# --- Process English Program Data ---\n",
    "\n",
    "program_df_en = pd.concat(frames_en, ignore_index=True)\n",
    "\n",
    "# Determine the org_id using the org name variants\n",
    "program_df_en = program_df_en.merge(\n",
    "    org_var,\n",
    "    how='left',\n",
    "    left_on='EntityDept_name_Eng-EntitéMin_nom_ang',\n",
    "    right_on='org_name_variant'\n",
    ")\n",
    "\n",
    "# Resolve program codes and names, taking the core responsibility if the program is null\n",
    "program_df_en['program_id'] = program_df_en[\n",
    "    'ProgramInventory-Répertoiredesprogrammes_code_PROG'\n",
    "].combine_first(\n",
    "    program_df_en['ProgramorCoreResponsibility-ProgrammeouResponsabilitéessentielle_code_PROG']\n",
    ")\n",
    "\n",
    "program_df_en['program_en'] = program_df_en[\n",
    "    'ProgramInventory_name-Répertoiredesprogrammes_nom_PROG'\n",
    "].combine_first(\n",
    "    program_df_en['ProgramorCoreResponsibility_name-ProgrammeouResponsabilitéessentielle_nom_PROG']\n",
    ")\n",
    "\n",
    "# Set index for merging\n",
    "program_df_en.set_index(['fiscal_yr', 'org_id', 'program_id'], inplace=True)\n",
    "\n",
    "# --- Process French Program Data ---\n",
    "\n",
    "program_df_fr = pd.concat(frames_fr, ignore_index=True)\n",
    "\n",
    "# Determine the org_id using the org name variants\n",
    "program_df_fr = program_df_fr.merge(\n",
    "    org_var,\n",
    "    how='left',\n",
    "    left_on='EntityDept_name_fra-EntitéMin_nom_fra',\n",
    "    right_on='org_name_variant'\n",
    ")\n",
    "\n",
    "# Resolve program codes and names, taking the core responsibility if the program is null\n",
    "program_df_fr['program_id'] = program_df_fr[\n",
    "    'ProgramInventory-Répertoiredesprogrammes_code_PROG'\n",
    "].combine_first(\n",
    "    program_df_fr['ProgramorCoreResponsibility-ProgrammeouResponsabilitéessentielle_code_PROG']\n",
    ")\n",
    "\n",
    "program_df_fr['program_fr'] = program_df_fr[\n",
    "    'ProgramInventory_name-Répertoiredesprogrammes_nom_PROG'\n",
    "].combine_first(\n",
    "    program_df_fr['ProgramorCoreResponsibility_name-ProgrammeouResponsabilitéessentielle_nom_PROG']\n",
    ")\n",
    "\n",
    "program_df_fr.set_index(['fiscal_yr', 'org_id', 'program_id'], inplace=True)\n",
    "\n",
    "# --- Merge English and French Data ---\n",
    "\n",
    "program_df = pd.merge(\n",
    "    program_df_en,\n",
    "    program_df_fr,\n",
    "    how='outer',\n",
    "    left_index=True,\n",
    "    right_index=True,\n",
    "    suffixes=['_en', '_fr'],\n",
    "    indicator=True\n",
    ")\n",
    "\n",
    "# Keep only necessary columns\n",
    "program_df = program_df[['program_en', 'program_fr']].reset_index()\n",
    "\n",
    "# --- Select Latest Fiscal Year per org_id–code ---\n",
    "\n",
    "program_df = program_df.sort_values('fiscal_yr')\n",
    "\n",
    "latest_idx = program_df.groupby(['org_id', 'program_id'])['fiscal_yr'].idxmax()\n",
    "program_df = program_df.loc[latest_idx, ['org_id', 'program_id', 'fiscal_yr', 'program_en', 'program_fr']]\n",
    "\n",
    "program_df\n",
    "\n",
    "# Final DataFrame: one row per org_id–code with the most recent program names\n",
    "program_df\n"
   ]
  }
 ],
 "metadata": {
  "kernelspec": {
   "display_name": "Python 3",
   "language": "python",
   "name": "python3"
  },
  "language_info": {
   "codemirror_mode": {
    "name": "ipython",
    "version": 3
   },
   "file_extension": ".py",
   "mimetype": "text/x-python",
   "name": "python",
   "nbconvert_exporter": "python",
   "pygments_lexer": "ipython3",
   "version": "3.12.1"
  }
 },
 "nbformat": 4,
 "nbformat_minor": 5
}
