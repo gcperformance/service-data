{
 "cells": [
  {
   "cell_type": "code",
   "execution_count": 12,
   "id": "fd2d413a-666f-49d4-b86c-7d6898a496a5",
   "metadata": {},
   "outputs": [],
   "source": [
    "import pandas as pd\n",
    "import numpy as np\n",
    "import re, pytz, os, requests, sys\n",
    "from pathlib import Path\n",
    "from datetime import datetime\n",
    "import sys\n",
    "sys.path.append(\"/workspaces/service-data\")\n",
    "\n",
    "from src.clean import clean_percentage, clean_fiscal_yr, normalize_string, standardize_column_names\n",
    "from src.load import load_csv, download_csv_files\n",
    "from src.export import export_to_csv\n",
    "from src.merge import merge_si, merge_ss\n",
    "from main import get_config\n",
    "\n",
    "\n",
    "base_dir = Path.cwd()\n",
    "parent_dir = base_dir.parent"
   ]
  },
  {
   "cell_type": "code",
   "execution_count": 25,
   "id": "be959c79",
   "metadata": {},
   "outputs": [
    {
     "name": "stdout",
     "output_type": "stream",
     "text": [
      "Downloaded: si_2018.csv\n",
      "Downloaded: si_2024.csv\n",
      "Downloaded: ss_2018.csv\n",
      "Downloaded: ss_2024.csv\n",
      "Downloaded: org_var.csv\n",
      "Downloaded: serv_prog.csv\n",
      "Downloaded: ifoi_en.csv\n",
      "Downloaded: ifoi_fr.csv\n",
      "Downloaded: rbpo.csv\n"
     ]
    }
   ],
   "source": [
    "# si = pd.read_csv(\"https://github.com/gcperformance/service-data/releases/latest/download/si.csv\", \n",
    "#                  keep_default_na=False, \n",
    "#                  na_values='', \n",
    "#                  delimiter=';'\n",
    "#                  )\n",
    "\n",
    "# ss = pd.read_csv(\"https://github.com/gcperformance/service-data/releases/latest/download/ss.csv\", \n",
    "#                  keep_default_na=False, \n",
    "#                  na_values='', \n",
    "#                  delimiter=';'\n",
    "#                  )\n",
    "\n",
    "config=get_config()\n",
    "download_csv_files(config)\n",
    "org_var = load_csv('org_var.csv', config, snapshot=False)"
   ]
  },
  {
   "cell_type": "code",
   "execution_count": 26,
   "id": "434a0e1a",
   "metadata": {},
   "outputs": [],
   "source": [
    "frames_en = []\n",
    "frames_fr = []\n",
    "\n",
    "for fiscal_yr, url in get_config()['program_csv_urls_en'].items():\n",
    "    filename = url[(url.rfind('/')+1):url.rfind('.')]\n",
    "    # print(filename)\n",
    "    \n",
    "    df = pd.read_csv(url)\n",
    "    df['filename'] = filename\n",
    "    df['fiscal_yr'] = fiscal_yr\n",
    "    frames_en += [df]\n",
    "\n",
    "for fiscal_yr, url in get_config()['program_csv_urls_fr'].items():\n",
    "    filename = url[(url.rfind('/')+1):url.rfind('.')]\n",
    "    # print(filename)\n",
    "    \n",
    "    df = pd.read_csv(url)\n",
    "    df['filename'] = filename\n",
    "    df['fiscal_yr'] = fiscal_yr\n",
    "    frames_fr += [df]\n",
    "\n"
   ]
  },
  {
   "cell_type": "code",
   "execution_count": 28,
   "id": "dd538ced",
   "metadata": {},
   "outputs": [
    {
     "name": "stdout",
     "output_type": "stream",
     "text": [
      "<class 'pandas.core.frame.DataFrame'>\n",
      "Index: 10237 entries, 0 to 1220\n",
      "Data columns (total 13 columns):\n",
      " #   Column                                                                             Non-Null Count  Dtype \n",
      "---  ------                                                                             --------------  ----- \n",
      " 0   Ministry_name-Portefeuilleministériel_nom                                          10125 non-null  object\n",
      " 1   Other-than-budgetary-expenditures_Autres-que-depenses-budgetaires                  112 non-null    object\n",
      " 2   EntityDept_name_Eng-EntitéMin_nom_ang                                              10237 non-null  object\n",
      " 3   ProgramorCoreResponsibility-ProgrammeouResponsabilitéessentielle_code_PROG         10237 non-null  object\n",
      " 4   ProgramorCoreResponsibility_name-ProgrammeouResponsabilitéessentielle_nom_PROG     10237 non-null  object\n",
      " 5   ProgramorCoreResponsibility-ProgrammeouResponsabilitéessentielle_description_PROG  7618 non-null   object\n",
      " 6   ProgramInventory-Répertoiredesprogrammes_code_PROG                                 9319 non-null   object\n",
      " 7   ProgramInventory_name-Répertoiredesprogrammes_nom_PROG                             9319 non-null   object\n",
      " 8   ProgramInventory-Répertoiredesprogrammes_description_PROG                          10 non-null     object\n",
      " 9   Notes                                                                              794 non-null    object\n",
      " 10  Department_specific-Particulier_au_ministère                                       10182 non-null  object\n",
      " 11  filename                                                                           10237 non-null  object\n",
      " 12  fiscal_yr                                                                          10237 non-null  object\n",
      "dtypes: object(13)\n",
      "memory usage: 1.1+ MB\n"
     ]
    }
   ],
   "source": [
    "program_df_en = pd.concat(frames_en)\n",
    "program_df_en.info()"
   ]
  },
  {
   "cell_type": "code",
   "execution_count": 27,
   "id": "02e44388",
   "metadata": {},
   "outputs": [
    {
     "ename": "KeyError",
     "evalue": "'ProgramInventory_name-Répertoiredesprogrammes_name_PROG'",
     "output_type": "error",
     "traceback": [
      "\u001b[31m---------------------------------------------------------------------------\u001b[39m",
      "\u001b[31mKeyError\u001b[39m                                  Traceback (most recent call last)",
      "\u001b[36mFile \u001b[39m\u001b[32m~/.local/lib/python3.12/site-packages/pandas/core/indexes/base.py:3812\u001b[39m, in \u001b[36mIndex.get_loc\u001b[39m\u001b[34m(self, key)\u001b[39m\n\u001b[32m   3811\u001b[39m \u001b[38;5;28;01mtry\u001b[39;00m:\n\u001b[32m-> \u001b[39m\u001b[32m3812\u001b[39m     \u001b[38;5;28;01mreturn\u001b[39;00m \u001b[38;5;28;43mself\u001b[39;49m\u001b[43m.\u001b[49m\u001b[43m_engine\u001b[49m\u001b[43m.\u001b[49m\u001b[43mget_loc\u001b[49m\u001b[43m(\u001b[49m\u001b[43mcasted_key\u001b[49m\u001b[43m)\u001b[49m\n\u001b[32m   3813\u001b[39m \u001b[38;5;28;01mexcept\u001b[39;00m \u001b[38;5;167;01mKeyError\u001b[39;00m \u001b[38;5;28;01mas\u001b[39;00m err:\n",
      "\u001b[36mFile \u001b[39m\u001b[32mpandas/_libs/index.pyx:167\u001b[39m, in \u001b[36mpandas._libs.index.IndexEngine.get_loc\u001b[39m\u001b[34m()\u001b[39m\n",
      "\u001b[36mFile \u001b[39m\u001b[32mpandas/_libs/index.pyx:196\u001b[39m, in \u001b[36mpandas._libs.index.IndexEngine.get_loc\u001b[39m\u001b[34m()\u001b[39m\n",
      "\u001b[36mFile \u001b[39m\u001b[32mpandas/_libs/hashtable_class_helper.pxi:7088\u001b[39m, in \u001b[36mpandas._libs.hashtable.PyObjectHashTable.get_item\u001b[39m\u001b[34m()\u001b[39m\n",
      "\u001b[36mFile \u001b[39m\u001b[32mpandas/_libs/hashtable_class_helper.pxi:7096\u001b[39m, in \u001b[36mpandas._libs.hashtable.PyObjectHashTable.get_item\u001b[39m\u001b[34m()\u001b[39m\n",
      "\u001b[31mKeyError\u001b[39m: 'ProgramInventory_name-Répertoiredesprogrammes_name_PROG'",
      "\nThe above exception was the direct cause of the following exception:\n",
      "\u001b[31mKeyError\u001b[39m                                  Traceback (most recent call last)",
      "\u001b[36mCell\u001b[39m\u001b[36m \u001b[39m\u001b[32mIn[27]\u001b[39m\u001b[32m, line 4\u001b[39m\n\u001b[32m      2\u001b[39m program_df_en = program_df_en.merge(org_var, how=\u001b[33m'\u001b[39m\u001b[33mleft\u001b[39m\u001b[33m'\u001b[39m, left_on=\u001b[33m'\u001b[39m\u001b[33mEntityDept_name_Eng-EntitéMin_nom_ang\u001b[39m\u001b[33m'\u001b[39m, right_on=\u001b[33m'\u001b[39m\u001b[33morg_name_variant\u001b[39m\u001b[33m'\u001b[39m)\n\u001b[32m      3\u001b[39m program_df_en[\u001b[33m'\u001b[39m\u001b[33mcode\u001b[39m\u001b[33m'\u001b[39m] = program_df_en[\u001b[33m'\u001b[39m\u001b[33mProgramInventory-Répertoiredesprogrammes_code_PROG\u001b[39m\u001b[33m'\u001b[39m].combine_first(program_df_en[\u001b[33m'\u001b[39m\u001b[33mProgramorCoreResponsibility-ProgrammeouResponsabilitéessentielle_code_PROG\u001b[39m\u001b[33m'\u001b[39m])\n\u001b[32m----> \u001b[39m\u001b[32m4\u001b[39m program_df_en[\u001b[33m'\u001b[39m\u001b[33mname_en\u001b[39m\u001b[33m'\u001b[39m] = \u001b[43mprogram_df_en\u001b[49m\u001b[43m[\u001b[49m\u001b[33;43m'\u001b[39;49m\u001b[33;43mProgramInventory_name-Répertoiredesprogrammes_name_PROG\u001b[39;49m\u001b[33;43m'\u001b[39;49m\u001b[43m]\u001b[49m.combine_first(program_df_en[\u001b[33m'\u001b[39m\u001b[33mProgramorCoreResponsibility_name-ProgrammeouResponsabilitéessentielle_nom_PROG\u001b[39m\u001b[33m'\u001b[39m])\n\u001b[32m      6\u001b[39m program_df_en.set_index([\u001b[33m'\u001b[39m\u001b[33mfiscal_yr\u001b[39m\u001b[33m'\u001b[39m, \u001b[33m'\u001b[39m\u001b[33morg_id\u001b[39m\u001b[33m'\u001b[39m, \u001b[33m'\u001b[39m\u001b[33mcode\u001b[39m\u001b[33m'\u001b[39m])\n\u001b[32m      8\u001b[39m program_df_en.head()\n",
      "\u001b[36mFile \u001b[39m\u001b[32m~/.local/lib/python3.12/site-packages/pandas/core/frame.py:4107\u001b[39m, in \u001b[36mDataFrame.__getitem__\u001b[39m\u001b[34m(self, key)\u001b[39m\n\u001b[32m   4105\u001b[39m \u001b[38;5;28;01mif\u001b[39;00m \u001b[38;5;28mself\u001b[39m.columns.nlevels > \u001b[32m1\u001b[39m:\n\u001b[32m   4106\u001b[39m     \u001b[38;5;28;01mreturn\u001b[39;00m \u001b[38;5;28mself\u001b[39m._getitem_multilevel(key)\n\u001b[32m-> \u001b[39m\u001b[32m4107\u001b[39m indexer = \u001b[38;5;28;43mself\u001b[39;49m\u001b[43m.\u001b[49m\u001b[43mcolumns\u001b[49m\u001b[43m.\u001b[49m\u001b[43mget_loc\u001b[49m\u001b[43m(\u001b[49m\u001b[43mkey\u001b[49m\u001b[43m)\u001b[49m\n\u001b[32m   4108\u001b[39m \u001b[38;5;28;01mif\u001b[39;00m is_integer(indexer):\n\u001b[32m   4109\u001b[39m     indexer = [indexer]\n",
      "\u001b[36mFile \u001b[39m\u001b[32m~/.local/lib/python3.12/site-packages/pandas/core/indexes/base.py:3819\u001b[39m, in \u001b[36mIndex.get_loc\u001b[39m\u001b[34m(self, key)\u001b[39m\n\u001b[32m   3814\u001b[39m     \u001b[38;5;28;01mif\u001b[39;00m \u001b[38;5;28misinstance\u001b[39m(casted_key, \u001b[38;5;28mslice\u001b[39m) \u001b[38;5;129;01mor\u001b[39;00m (\n\u001b[32m   3815\u001b[39m         \u001b[38;5;28misinstance\u001b[39m(casted_key, abc.Iterable)\n\u001b[32m   3816\u001b[39m         \u001b[38;5;129;01mand\u001b[39;00m \u001b[38;5;28many\u001b[39m(\u001b[38;5;28misinstance\u001b[39m(x, \u001b[38;5;28mslice\u001b[39m) \u001b[38;5;28;01mfor\u001b[39;00m x \u001b[38;5;129;01min\u001b[39;00m casted_key)\n\u001b[32m   3817\u001b[39m     ):\n\u001b[32m   3818\u001b[39m         \u001b[38;5;28;01mraise\u001b[39;00m InvalidIndexError(key)\n\u001b[32m-> \u001b[39m\u001b[32m3819\u001b[39m     \u001b[38;5;28;01mraise\u001b[39;00m \u001b[38;5;167;01mKeyError\u001b[39;00m(key) \u001b[38;5;28;01mfrom\u001b[39;00m\u001b[38;5;250m \u001b[39m\u001b[34;01merr\u001b[39;00m\n\u001b[32m   3820\u001b[39m \u001b[38;5;28;01mexcept\u001b[39;00m \u001b[38;5;167;01mTypeError\u001b[39;00m:\n\u001b[32m   3821\u001b[39m     \u001b[38;5;66;03m# If we have a listlike key, _check_indexing_error will raise\u001b[39;00m\n\u001b[32m   3822\u001b[39m     \u001b[38;5;66;03m#  InvalidIndexError. Otherwise we fall through and re-raise\u001b[39;00m\n\u001b[32m   3823\u001b[39m     \u001b[38;5;66;03m#  the TypeError.\u001b[39;00m\n\u001b[32m   3824\u001b[39m     \u001b[38;5;28mself\u001b[39m._check_indexing_error(key)\n",
      "\u001b[31mKeyError\u001b[39m: 'ProgramInventory_name-Répertoiredesprogrammes_name_PROG'"
     ]
    }
   ],
   "source": [
    "program_df_en = pd.concat(frames_en)\n",
    "program_df_en = program_df_en.merge(org_var, how='left', left_on='EntityDept_name_Eng-EntitéMin_nom_ang', right_on='org_name_variant')\n",
    "program_df_en['code'] = program_df_en['ProgramInventory-Répertoiredesprogrammes_code_PROG'].combine_first(program_df_en['ProgramorCoreResponsibility-ProgrammeouResponsabilitéessentielle_code_PROG'])\n",
    "program_df_en['name_en'] = program_df_en['ProgramInventory_name-Répertoiredesprogrammes_name_PROG'].combine_first(program_df_en['ProgramorCoreResponsibility_name-ProgrammeouResponsabilitéessentielle_nom_PROG'])\n",
    "\n",
    "program_df_en.set_index(['fiscal_yr', 'org_id', 'code'])\n",
    "\n",
    "program_df_en.head()"
   ]
  },
  {
   "cell_type": "code",
   "execution_count": null,
   "id": "bc6946a6",
   "metadata": {},
   "outputs": [
    {
     "name": "stdout",
     "output_type": "stream",
     "text": [
      "<class 'pandas.core.frame.DataFrame'>\n",
      "RangeIndex: 10237 entries, 0 to 10236\n",
      "Data columns (total 15 columns):\n",
      " #   Column                                                                             Non-Null Count  Dtype  \n",
      "---  ------                                                                             --------------  -----  \n",
      " 0   Ministry_name-Portefeuilleministériel_nom                                          10139 non-null  object \n",
      " 1   Other-than-budgetary-expenditures_Autres-que-depenses-budgetaires                  98 non-null     object \n",
      " 2   EntityDept_name_fra-EntitéMin_nom_fra                                              10237 non-null  object \n",
      " 3   ProgramorCoreResponsibility-ProgrammeouResponsabilitéessentielle_code_PROG         10237 non-null  object \n",
      " 4   ProgramorCoreResponsibility_name-ProgrammeouResponsabilitéessentielle_nom_PROG     10237 non-null  object \n",
      " 5   ProgramorCoreResponsibility-ProgrammeouResponsabilitéessentielle_description_PROG  7633 non-null   object \n",
      " 6   ProgramInventory-Répertoiredesprogrammes_code_PROG                                 9319 non-null   object \n",
      " 7   ProgramInventory_name-Répertoiredesprogrammes_nom_PROG                             9319 non-null   object \n",
      " 8   ProgramInventory-Répertoiredesprogrammes_description_PROG                          10 non-null     object \n",
      " 9   Notes                                                                              794 non-null    object \n",
      " 10  Department_specific-Particulier_au_ministère                                       10182 non-null  object \n",
      " 11  filename                                                                           10237 non-null  object \n",
      " 12  fiscal_yr                                                                          10237 non-null  object \n",
      " 13  org_name_variant                                                                   10117 non-null  object \n",
      " 14  org_id                                                                             10117 non-null  float64\n",
      "dtypes: float64(1), object(14)\n",
      "memory usage: 1.2+ MB\n"
     ]
    }
   ],
   "source": [
    "program_df_fr = pd.concat(frames_fr)\n",
    "program_df_fr = program_df_fr.merge(org_var, how='left', left_on='EntityDept_name_fra-EntitéMin_nom_fra', right_on='org_name_variant')\n",
    "program_df_fr['code'] = program_df_fr['ProgramInventory-Répertoiredesprogrammes_code_PROG'].combine_first(program_df_en['ProgramorCoreResponsibility-ProgrammeouResponsabilitéessentielle_code_PROG'])\n",
    "program_df_en['name_fr'] = program_df_en['ProgramInventory_name-Répertoiredesprogrammes_nom_PROG'].combine_first(program_df_en['ProgramorCoreResponsibility_name-ProgrammeouResponsabilitéessentielle_nom_PROG'])\n",
    "\n",
    "program_df_fr.info()\n",
    "# program_df_en.set_index(['fiscal_yr', 'org_id', 'code'])"
   ]
  },
  {
   "cell_type": "code",
   "execution_count": 17,
   "id": "9887a499",
   "metadata": {},
   "outputs": [],
   "source": [
    "# missing_orgs = program_df_en[['EntityDept_name_Eng-EntitéMin_nom_ang', 'org_name_variant']][program_df_en['org_id'].isna()]\n",
    "# missing_orgs['EntityDept_name_Eng-EntitéMin_nom_ang'].unique()"
   ]
  }
 ],
 "metadata": {
  "kernelspec": {
   "display_name": "Python 3",
   "language": "python",
   "name": "python3"
  },
  "language_info": {
   "codemirror_mode": {
    "name": "ipython",
    "version": 3
   },
   "file_extension": ".py",
   "mimetype": "text/x-python",
   "name": "python",
   "nbconvert_exporter": "python",
   "pygments_lexer": "ipython3",
   "version": "3.12.1"
  }
 },
 "nbformat": 4,
 "nbformat_minor": 5
}
