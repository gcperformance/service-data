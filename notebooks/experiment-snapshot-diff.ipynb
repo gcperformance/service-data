{
 "cells": [
  {
   "cell_type": "code",
   "execution_count": 237,
   "id": "fd2d413a-666f-49d4-b86c-7d6898a496a5",
   "metadata": {},
   "outputs": [],
   "source": [
    "import pandas as pd\n",
    "import numpy as np\n",
    "import re, pytz, os, requests, sys\n",
    "from pathlib import Path\n",
    "from datetime import datetime\n",
    "import sys\n",
    "sys.path.append(\"/workspaces/service-data\")\n",
    "\n",
    "from src.clean import clean_percentage, clean_fiscal_yr, normalize_string, standardize_column_names\n",
    "from src.load import load_csv\n",
    "from src.export import export_to_csv\n",
    "from src.merge import merge_si, merge_ss\n",
    "\n",
    "base_dir = Path.cwd()\n",
    "parent_dir = base_dir.parent"
   ]
  },
  {
   "cell_type": "code",
   "execution_count": null,
   "id": "be959c79",
   "metadata": {},
   "outputs": [],
   "source": [
    "si = pd.read_csv(\"https://github.com/gcperformance/service-data/releases/latest/download/si.csv\", \n",
    "                 keep_default_na=False, \n",
    "                 na_values='', \n",
    "                 delimiter=';',\n",
    "                 engine='python',\n",
    "                 skipfooter=2\n",
    "                 )\n",
    "\n",
    "snap_si = pd.read_csv(\"https://github.com/gcperformance/service-data/releases/latest/download/2025-03-01_si.csv\", \n",
    "                 keep_default_na=False, \n",
    "                 na_values='', \n",
    "                 delimiter=';',\n",
    "                 engine='python',\n",
    "                 skipfooter=2\n",
    "                 )\n",
    "\n",
    "compare_dict = {\n",
    "    'key': 'fy_org_id_service_id',\n",
    "    'df_base': 'si.csv',\n",
    "    'df_comp': '2025-03-01_si.csv'\n",
    "}\n",
    "\n",
    "df_base = si.copy()\n",
    "df_comp = snap_si.copy()\n",
    "key = 'fy_org_id_service_id'\n",
    "\n",
    "base_keys = df_base[key]\n",
    "comp_keys = df_comp[key]\n",
    "\n",
    "df_base.set_index(key, inplace=True)\n",
    "df_comp.set_index(key, inplace=True)"
   ]
  },
  {
   "cell_type": "code",
   "execution_count": 239,
   "id": "f4f1fa4d",
   "metadata": {},
   "outputs": [],
   "source": [
    "match_keys = pd.merge(base_keys, comp_keys, how='outer', indicator=True)\n",
    "\n",
    "common_keys = match_keys[match_keys['_merge']=='both'].iloc[:, 0]\n",
    "uncommon_keys = match_keys[match_keys['_merge']!='both']\n",
    "keys_only_in_base = match_keys[match_keys['_merge']=='left_only'].iloc[:, 0]\n",
    "keys_only_in_comp = match_keys[match_keys['_merge']=='right_only'].iloc[:, 0]"
   ]
  },
  {
   "cell_type": "code",
   "execution_count": 240,
   "id": "f0d20ed0",
   "metadata": {},
   "outputs": [],
   "source": [
    "df_base_common = df_base[df_base.index.isin(common_keys)]\n",
    "df_comp_common = df_comp[df_comp.index.isin(common_keys)]"
   ]
  },
  {
   "cell_type": "code",
   "execution_count": null,
   "id": "89df5989",
   "metadata": {},
   "outputs": [],
   "source": [
    "var_name = 'field'\n",
    "#ne = not equal, inverse of eq\n",
    "diff_wide = df_base_common.fillna(0).ne(df_comp_common.fillna(0)).reset_index()\n",
    "diff = diff_wide.melt(value_vars = diff_wide.columns, var_name=var_name, id_vars = key)\n",
    "diff = diff[diff['value']]\n",
    "diff.set_index([key, var_name], inplace=True)"
   ]
  },
  {
   "cell_type": "code",
   "execution_count": null,
   "id": "28681186",
   "metadata": {},
   "outputs": [],
   "source": [
    "\n",
    "df_base_long = df_base_common.reset_index().melt(value_vars = df_base_common.columns, var_name = var_name, id_vars=[key])\n",
    "df_base_long.set_index([key, var_name], inplace=True)\n",
    "\n",
    "df_comp_long = df_comp_common.reset_index().melt(value_vars = df_comp_common.columns, var_name = var_name, id_vars=[key])\n",
    "df_comp_long.set_index([key, var_name], inplace=True)"
   ]
  },
  {
   "cell_type": "code",
   "execution_count": null,
   "id": "edb6e734",
   "metadata": {},
   "outputs": [],
   "source": [
    "diff_result = diff.join(df_base_long, how='inner', rsuffix='_base').join(df_comp_long, how='inner', rsuffix='_comp')\n",
    "diff_result.drop(columns=['value'], inplace=True)\n",
    "diff_result.reset_index(inplace=True)"
   ]
  },
  {
   "cell_type": "code",
   "execution_count": 246,
   "id": "7ed7560c",
   "metadata": {},
   "outputs": [
    {
     "name": "stdout",
     "output_type": "stream",
     "text": [
      "<class 'pandas.core.series.Series'>\n",
      "Index: 1 entries, 8254 to 8254\n",
      "Series name: fy_org_id_service_id\n",
      "Non-Null Count  Dtype \n",
      "--------------  ----- \n",
      "1 non-null      object\n",
      "dtypes: object(1)\n",
      "memory usage: 16.0+ bytes\n"
     ]
    }
   ],
   "source": [
    "keys_only_in_comp.info()"
   ]
  }
 ],
 "metadata": {
  "kernelspec": {
   "display_name": "Python 3",
   "language": "python",
   "name": "python3"
  },
  "language_info": {
   "codemirror_mode": {
    "name": "ipython",
    "version": 3
   },
   "file_extension": ".py",
   "mimetype": "text/x-python",
   "name": "python",
   "nbconvert_exporter": "python",
   "pygments_lexer": "ipython3",
   "version": "3.12.1"
  }
 },
 "nbformat": 4,
 "nbformat_minor": 5
}
