{
 "cells": [
  {
   "cell_type": "code",
   "execution_count": 1,
   "metadata": {},
   "outputs": [
    {
     "name": "stdout",
     "output_type": "stream",
     "text": [
      "current date: 2025-04-15_15:43:18\n"
     ]
    }
   ],
   "source": [
    "# setting my si data frame\n",
    "import pandas as pd\n",
    "data = '/workspaces/service-data/outputs/si.csv'\n",
    "si = pd.read_csv(data, sep=';')\n",
    "programid = '/workspaces/service-data/inputs/serv_prog.csv'\n",
    "programs = pd.read_csv(programid, sep=',')\n",
    "from datetime import datetime\n",
    "import pytz\n",
    "\n",
    "# Specify the timezone\n",
    "timezone = pytz.timezone(\"America/Montreal\")\n",
    "\n",
    "# Get the current date and time in the specified timezone\n",
    "current_date = datetime.now(timezone)\n",
    "\n",
    "# Format the current date and time into the desired string format\n",
    "current_datestr = current_date.strftime(\"%Y-%m-%d_%H:%M:%S\")\n",
    "\n",
    "# Print the current date and time\n",
    "print(f\"current date: {current_datestr}\")\n"
   ]
  },
  {
   "cell_type": "code",
   "execution_count": 2,
   "metadata": {},
   "outputs": [],
   "source": [
    "# to add a new column for phone apps inquiries\n",
    "# phone apps inquiries are num_phone_enquiries plus num_applications_by_phone\n",
    "# based on error received 'can only concatenate str (not int) to string\n",
    "\n",
    "# Convert the columns to numeric, forcing any non-numeric values to NaN\n",
    "si['num_phone_enquiries'] = pd.to_numeric(si['num_phone_enquiries'], errors='coerce')\n",
    "si['num_applications_by_phone'] = pd.to_numeric(si['num_applications_by_phone'], errors='coerce')\n",
    "\n",
    "# Add the new column 'phone_apps_inquiries' by filling NaN values with 0\n",
    "si['phone_apps_inquiries'] = si['num_phone_enquiries'].fillna(0) + si['num_applications_by_phone'].fillna(0)\n",
    "\n",
    "# adding a new column for total transactions\n",
    "# to avoid error, convert the columns to numeric\n",
    "\n",
    "si['num_applications_by_email'] = pd.to_numeric(si['num_applications_by_email'], errors='coerce')\n",
    "si['num_applications_by_fax'] = pd.to_numeric(si['num_applications_by_fax'], errors='coerce')\n",
    "si['num_applications_by_mail'] = pd.to_numeric(si['num_applications_by_mail'], errors='coerce')\n",
    "si['num_applications_by_other'] = pd.to_numeric(si['num_applications_by_other'], errors='coerce')\n",
    "si['num_applications_in_person'] = pd.to_numeric(si['num_applications_in_person'], errors='coerce')\n",
    "si['num_applications_online'] = pd.to_numeric(si['num_applications_online'], errors='coerce')\n",
    "\n",
    "# now add all six columns including the column phone apps inquiries to get the total transactions\n",
    "si['total_transactions'] = (\n",
    "si['num_applications_by_email'].fillna(0) + \n",
    "si['num_applications_by_fax'].fillna(0) + \n",
    "si['num_applications_by_mail'].fillna(0) + \n",
    "si['num_applications_by_other'].fillna(0) + \n",
    "si['num_applications_in_person'].fillna(0) + \n",
    "si['num_applications_online'].fillna(0) + \n",
    "si['phone_apps_inquiries'].fillna(0)\n",
    ")"
   ]
  },
  {
   "cell_type": "code",
   "execution_count": 3,
   "metadata": {},
   "outputs": [],
   "source": [
    "# adding a new column for applications done by phone, online and in person only\n",
    "si['apps_online_and_per'] = (\n",
    "    si['num_applications_in_person'].fillna(0) + \n",
    "    si['num_applications_online'].fillna(0) + \n",
    "    si['phone_apps_inquiries'].fillna(0)\n",
    ")"
   ]
  },
  {
   "cell_type": "code",
   "execution_count": null,
   "metadata": {},
   "outputs": [],
   "source": [
    "# adding a new column for omnichannels\n",
    "si['omnichannel'] = si.apply(\n",
    "    lambda row: 1 if pd.notna(row['phone_apps_inquiries']) and pd.notna(row['num_applications_online']) and pd.notna(row['num_applications_in_person']) else 0, \n",
    "    axis=1\n",
    ")"
   ]
  },
  {
   "cell_type": "code",
   "execution_count": null,
   "metadata": {},
   "outputs": [],
   "source": [
    "\n",
    "\n",
    "\n",
    "\n",
    "# adding a new column for external\n",
    "si['external'] = si['service_scope'].str.contains('EXTERN', na=False).astype(int)\n",
    "#convert the column to numeric \n",
    "si['external'] = pd.to_numeric(si['external'], errors='coerce')\n",
    "\n",
    "# adding a new column for high volume services\n",
    "si['highvolume'] = (si['total_transactions'] >= 45000).astype(int)\n",
    "\n",
    "# adding a new column for online enabled Y\n",
    "# creating columns to check which lists out the columns from os_account_registration to os_issue_resolution_feedback\n",
    "columns_to_check = [ 'os_account_registration', 'os_authentication', 'os_application', 'os_decision', 'os_issuance', 'os_issue_resolution_feedback']\n",
    "si['online_enabledY'] = si[columns_to_check].apply(lambda row: (row == 'Y').sum(), axis=1)\n",
    "\n",
    "# adding column for online enabled N\n",
    "si['online_enabledN'] = si[columns_to_check].apply(lambda row: (row == 'N').sum(), axis=1)\n",
    "\n",
    "# adding column for online enabled NA\n",
    "si['online_enabledNA'] = si[columns_to_check].isna().sum(axis=1)\n",
    "\n",
    "# adding a new column for online end to end\n",
    "si['onlineE2E'] = (\n",
    "    si.apply(lambda row: \"0\" if row['online_enabledNA'] == 6 \n",
    "    else \"1\" if row['online_enabledY'] + row['online_enabledNA'] == 6 \n",
    "    else \"0\", axis=1)\n",
    "    )\n",
    "\n",
    "# adding a new column for online one or more points\n",
    "si['onl_morepoints'] = si['online_enabledY'].apply(lambda x: '1' if x >= 1 else '0')"
   ]
  },
  {
   "cell_type": "code",
   "execution_count": 34,
   "metadata": {},
   "outputs": [],
   "source": [
    "# importing the service standards data\n",
    "ss_data = '/workspaces/service-data/outputs/ss.csv'\n",
    "ss = pd.read_csv(ss_data, sep=';')\n",
    "\n",
    "# adding column for services with standards and standards met\n",
    "# grouping and summarizing the 'ss' DataFrame\n",
    "ss_count = ss.groupby(['service_id', 'fiscal_yr']).agg(\n",
    "    standards_count=('service_id', 'size'),  # Count the occurrences\n",
    "    standards_met=('target_met', lambda x: (x == 'Y').sum())  # Count where target_met is 'Y'\n",
    ").reset_index()\n",
    "# merging the 'ss_count' DataFrame with the 'si' DataFrame\n",
    "si = si.merge(ss_count, on=['service_id', 'fiscal_yr'], how='left')\n",
    "# replacing NaN values in 'standards_count' and 'standards_met' with 0\n",
    "si['standards_count'] = si['standards_count'].fillna(0)\n",
    "si['standards_met'] = si['standards_met'].fillna(0)\n",
    "\n",
    "# adding a new column for services that met at least one standard\n",
    "si['STDS_metsome'] = (si['standards_met'] >= 1).astype(int)\n",
    "\n",
    "# creating the FYSID column by merging fiscal_yr and service_id columns\n",
    "si['FYSID'] = si['fiscal_yr'].astype(str) + si['service_id'].astype(str)\n",
    "\n",
    "# creating column for external_service in ss data frame\n",
    "\n",
    "# Step 1: Merge the two DataFrames on 'fy_org_id_service_id'\n",
    "merged_df = pd.merge(ss, si[['fy_org_id_service_id', 'external']], on='fy_org_id_service_id', how='left')\n",
    "\n",
    "# Step 2: Create the 'external_service' column based on the condition\n",
    "merged_df['external_service'] = (merged_df['external'] == 1).astype(int)\n",
    "\n",
    "# Step 3: Now, we only need to keep the original columns of ss and the new 'external_service' column\n",
    "ss['external_service'] = merged_df['external_service']"
   ]
  },
  {
   "cell_type": "code",
   "execution_count": 35,
   "metadata": {},
   "outputs": [],
   "source": [
    "# BEGINNING THE DATA PACK METRICS"
   ]
  },
  {
   "cell_type": "code",
   "execution_count": 36,
   "metadata": {},
   "outputs": [
    {
     "name": "stdout",
     "output_type": "stream",
     "text": [
      "                     Fiscal_Year  Total_Transactions (in millions)\n",
      "0                      2018-2019                        431.192682\n",
      "1                      2019-2020                        424.790717\n",
      "2                      2020-2021                        399.085166\n",
      "3                      2021-2022                        369.012303\n",
      "4                      2022-2023                        476.872933\n",
      "5                      2023-2024                        475.890397\n",
      "6                      2024-2025                          0.000000\n",
      "7  Timestamp:2025-04-01_14:23:25                          0.000000\n"
     ]
    }
   ],
   "source": [
    "# metric 2: total number of transactions for fiscal years\n",
    "# the number is in millions\n",
    "\n",
    "# Group by fiscal year and sum the transactions for each year\n",
    "total_transactions_by_year = si.groupby('fiscal_yr')['total_transactions'].sum() / 1000000\n",
    "\n",
    "# Convert to a DataFrame to create a table-like structure\n",
    "total_transactions_table = total_transactions_by_year.reset_index()\n",
    "\n",
    "# Rename the columns for clarity\n",
    "total_transactions_table.columns = ['Fiscal_Year', 'Total_Transactions (in millions)']\n",
    "\n",
    "# Display the resulting table\n",
    "print(total_transactions_table)\n"
   ]
  },
  {
   "cell_type": "code",
   "execution_count": 37,
   "metadata": {},
   "outputs": [
    {
     "name": "stdout",
     "output_type": "stream",
     "text": [
      "  Fiscal_Year  Total_Transactions (in millions)\n",
      "0   2018-2019                        421.133885\n",
      "1   2019-2020                        412.398882\n",
      "2   2020-2021                        386.183263\n",
      "3   2021-2022                        358.629620\n",
      "4   2022-2023                        464.461678\n",
      "5   2023-2024                        462.845966\n",
      "6   2024-2025                          0.000000\n"
     ]
    }
   ],
   "source": [
    "# metric 2: total number of transactions for fiscal years filtering for external == 1\n",
    "# the number is in millions\n",
    "# Filter the si dataset for external transactions (external == 1)\n",
    "si_external = si[si['external'] == 1]\n",
    "\n",
    "# Group by fiscal year and sum the transactions for each year, for external services only\n",
    "total_transactions_by_year_external = si_external.groupby('fiscal_yr')['total_transactions'].sum() / 1000000\n",
    "\n",
    "# Convert to a DataFrame to create a table-like structure\n",
    "total_transactions_table_external = total_transactions_by_year_external.reset_index()\n",
    "\n",
    "# Rename the columns for clarity\n",
    "total_transactions_table_external.columns = ['Fiscal_Year', 'Total_Transactions (in millions)']\n",
    "\n",
    "# Display the resulting table\n",
    "print(total_transactions_table_external)"
   ]
  },
  {
   "cell_type": "code",
   "execution_count": 38,
   "metadata": {},
   "outputs": [
    {
     "name": "stdout",
     "output_type": "stream",
     "text": [
      "                     Fiscal_Year  Online_as_a_Share_of_Total_Transactions (%)\n",
      "0                      2018-2019                                    42.649981\n",
      "1                      2019-2020                                    39.721145\n",
      "2                      2020-2021                                    53.936630\n",
      "3                      2021-2022                                    53.480450\n",
      "4                      2022-2023                                    56.587775\n",
      "5                      2023-2024                                    56.103385\n",
      "6                      2024-2025                                          NaN\n",
      "7  Timestamp:2025-04-01_14:23:25                                          NaN\n"
     ]
    }
   ],
   "source": [
    "# metric 3a: online as a share of total transactions\n",
    "# Fill NaN values in 'num_applications_online' with 0\n",
    "si['num_applications_online'] = si['num_applications_online'].fillna(0)\n",
    "\n",
    "# Group by fiscal year and calculate the sum of online transactions and total transactions for each fiscal year\n",
    "online_transactions_by_year = si.groupby('fiscal_yr')['num_applications_online'].sum() / 1000000\n",
    "total_transactions_by_year = si.groupby('fiscal_yr')['total_transactions'].sum() / 1000000\n",
    "\n",
    "# Calculate the online fraction for each fiscal year\n",
    "online_fraction_by_year = (online_transactions_by_year / total_transactions_by_year) * 100\n",
    "\n",
    "# Convert to DataFrame for display\n",
    "online_fraction_table = online_fraction_by_year.reset_index()\n",
    "\n",
    "# Rename the columns for clarity\n",
    "online_fraction_table.columns = ['Fiscal_Year', 'Online_as_a_Share_of_Total_Transactions (%)']\n",
    "\n",
    "# Display the resulting table\n",
    "print(online_fraction_table)\n"
   ]
  },
  {
   "cell_type": "code",
   "execution_count": 39,
   "metadata": {},
   "outputs": [
    {
     "name": "stdout",
     "output_type": "stream",
     "text": [
      "                     Fiscal_Year  \\\n",
      "0                      2018-2019   \n",
      "1                      2019-2020   \n",
      "2                      2020-2021   \n",
      "3                      2021-2022   \n",
      "4                      2022-2023   \n",
      "5                      2023-2024   \n",
      "6                      2024-2025   \n",
      "7  Timestamp:2025-04-01_14:23:25   \n",
      "\n",
      "   Telephone_as_a_Share_of_Total_Transactions (%)  \n",
      "0                                       12.474025  \n",
      "1                                       21.444695  \n",
      "2                                       34.454594  \n",
      "3                                       28.307156  \n",
      "4                                       15.396291  \n",
      "5                                       15.065369  \n",
      "6                                             NaN  \n",
      "7                                             NaN  \n"
     ]
    }
   ],
   "source": [
    "# metric 3b: telephone as a share of total transactions\n",
    "# Fill NaN values in 'phone_apps_inquiries' with 0\n",
    "si['phone_apps_inquiries'] = si['phone_apps_inquiries'].fillna(0)\n",
    "\n",
    "# Group by fiscal year and calculate the sum of telephone transactions and total transactions for each fiscal year\n",
    "telephone_transactions_by_year = si.groupby('fiscal_yr')['phone_apps_inquiries'].sum() / 1000000\n",
    "total_transactions_by_year = si.groupby('fiscal_yr')['total_transactions'].sum() / 1000000\n",
    "\n",
    "# Calculate the telephone fraction for each fiscal year\n",
    "telephone_fraction_by_year = (telephone_transactions_by_year / total_transactions_by_year) * 100\n",
    "\n",
    "# Convert to DataFrame for display\n",
    "telephone_fraction_table = telephone_fraction_by_year.reset_index()\n",
    "\n",
    "# Rename the columns for clarity\n",
    "telephone_fraction_table.columns = ['Fiscal_Year', 'Telephone_as_a_Share_of_Total_Transactions (%)']\n",
    "\n",
    "# Display the resulting table\n",
    "print(telephone_fraction_table)\n"
   ]
  },
  {
   "cell_type": "code",
   "execution_count": 40,
   "metadata": {},
   "outputs": [
    {
     "name": "stdout",
     "output_type": "stream",
     "text": [
      "                     Fiscal_Year  \\\n",
      "0                      2018-2019   \n",
      "1                      2019-2020   \n",
      "2                      2020-2021   \n",
      "3                      2021-2022   \n",
      "4                      2022-2023   \n",
      "5                      2023-2024   \n",
      "6                      2024-2025   \n",
      "7  Timestamp:2025-04-01_14:23:25   \n",
      "\n",
      "   In-Person_as_a_Share_of_Total_Transactions_(%)  \n",
      "0                                       27.581419  \n",
      "1                                       26.142931  \n",
      "2                                        3.808385  \n",
      "3                                        7.575717  \n",
      "4                                       16.557836  \n",
      "5                                       21.556716  \n",
      "6                                             NaN  \n",
      "7                                             NaN  \n"
     ]
    }
   ],
   "source": [
    "# metric 3c: in-person as a share of total transactions\n",
    "# Fill NaN values in 'num_applications_in_person' with 0\n",
    "si['num_applications_in_person'] = si['num_applications_in_person'].fillna(0)\n",
    "\n",
    "# Group by fiscal year and calculate the sum of in-person transactions and total transactions for each fiscal year\n",
    "in_person_transactions_by_year = si.groupby('fiscal_yr')['num_applications_in_person'].sum() / 1000000\n",
    "total_transactions_by_year = si.groupby('fiscal_yr')['total_transactions'].sum() / 1000000\n",
    "\n",
    "# Calculate the in-person fraction for each fiscal year\n",
    "in_person_fraction_by_year = (in_person_transactions_by_year / total_transactions_by_year) * 100\n",
    "\n",
    "# Convert to DataFrame for display\n",
    "in_person_fraction_table = in_person_fraction_by_year.reset_index()\n",
    "\n",
    "# Rename the columns for clarity\n",
    "in_person_fraction_table.columns = ['Fiscal_Year', 'In-Person_as_a_Share_of_Total_Transactions_(%)']\n",
    "\n",
    "# Display the resulting table\n",
    "print(in_person_fraction_table)\n"
   ]
  },
  {
   "cell_type": "code",
   "execution_count": 43,
   "metadata": {},
   "outputs": [
    {
     "name": "stdout",
     "output_type": "stream",
     "text": [
      "                     Fiscal_Year  GC_omnichannel_share (%)  \\\n",
      "0                      2018-2019                 99.839228   \n",
      "1                      2019-2020                 99.843994   \n",
      "2                      2020-2021                100.000000   \n",
      "3                      2021-2022                 10.000000   \n",
      "4                      2022-2023                  7.810651   \n",
      "5                      2023-2024                 42.380952   \n",
      "6                      2024-2025                100.000000   \n",
      "7  Timestamp:2025-04-01_14:23:25                       NaN   \n",
      "\n",
      "   Omnichannel_Service_Count  Total_Service_Count  \n",
      "0                     1242.0                 1244  \n",
      "1                     1280.0                 1282  \n",
      "2                     1426.0                 1426  \n",
      "3                      161.0                 1610  \n",
      "4                      132.0                 1690  \n",
      "5                      712.0                 1680  \n",
      "6                        1.0                    1  \n",
      "7                        NaN                    0  \n"
     ]
    }
   ],
   "source": [
    "# Metric 4: Share of GC services with omnichannel offerings\n",
    "\n",
    "# Group by fiscal year and calculate the number of distinct service_ids with omnichannel offerings (where omnichannel == 1)\n",
    "num_omni_services = si[si['omnichannel'] == 1].groupby('fiscal_yr')['service_id'].nunique()\n",
    "\n",
    "# Group by fiscal year and calculate the total number of distinct service_ids in the entire dataset\n",
    "total_services = si.groupby('fiscal_yr')['service_id'].nunique()\n",
    "\n",
    "# Calculate the share of omnichannel services as a percentage for each fiscal year\n",
    "GC_omnichannel_share = (num_omni_services / total_services) * 100\n",
    "\n",
    "# Combine all metrics into a single DataFrame\n",
    "share_omni_table = pd.DataFrame({\n",
    "    'Fiscal_Year': GC_omnichannel_share.index,\n",
    "    'GC_omnichannel_share (%)': GC_omnichannel_share.values,\n",
    "    'Omnichannel_Service_Count': num_omni_services.reindex(GC_omnichannel_share.index).values,\n",
    "    'Total_Service_Count': total_services.reindex(GC_omnichannel_share.index).values\n",
    "})\n",
    "\n",
    "# Display the resulting table\n",
    "print(share_omni_table)\n",
    "\n"
   ]
  },
  {
   "cell_type": "code",
   "execution_count": 44,
   "metadata": {},
   "outputs": [
    {
     "name": "stdout",
     "output_type": "stream",
     "text": [
      "omnichannel\n",
      "1    4954\n",
      "0    3980\n",
      "Name: count, dtype: int64\n"
     ]
    }
   ],
   "source": [
    "print(si['omnichannel'].value_counts())\n"
   ]
  },
  {
   "cell_type": "code",
   "execution_count": null,
   "metadata": {},
   "outputs": [
    {
     "name": "stdout",
     "output_type": "stream",
     "text": [
      "  Fiscal_Year  Online_as_a_Share_of_Omnichannel_Usage_(%)\n",
      "0   2018-2019                                   42.649981\n",
      "1   2019-2020                                   39.721145\n",
      "2   2020-2021                                   53.936630\n",
      "3   2021-2022                                   82.968571\n",
      "4   2022-2023                                   73.981982\n",
      "5   2023-2024                                   74.169989\n",
      "6   2024-2025                                         NaN\n"
     ]
    }
   ],
   "source": [
    "# metric 5a: online as a share of omnichannel usage\n",
    "# Group by fiscal year and calculate total transactions where omnichannel is 1 for each fiscal year\n",
    "total_transactions_by_year = si[si['omnichannel'] == 1].groupby('fiscal_yr')['total_transactions'].sum()\n",
    "\n",
    "# Group by fiscal year and calculate the sum of online applications where omnichannel is 1 for each fiscal year\n",
    "sum_online_apps_by_year = si[si['omnichannel'] == 1].groupby('fiscal_yr')['num_applications_online'].sum()\n",
    "\n",
    "# Calculate the share of online applications as a percentage of omnichannel usage for each fiscal year\n",
    "share_online_by_year = (sum_online_apps_by_year / total_transactions_by_year) * 100\n",
    "\n",
    "# Convert to DataFrame for display\n",
    "share_online_table = share_online_by_year.reset_index()\n",
    "\n",
    "# Rename the columns for clarity\n",
    "share_online_table.columns = ['Fiscal_Year', 'Online_as_a_Share_of_Omnichannel_Usage_(%)']\n",
    "\n",
    "# Display the resulting table\n",
    "print(share_online_table)\n"
   ]
  },
  {
   "cell_type": "code",
   "execution_count": null,
   "metadata": {},
   "outputs": [
    {
     "name": "stdout",
     "output_type": "stream",
     "text": [
      "  Fiscal_Year  Phone_as_a_Share_of_Omnichannel_Usage_(%)\n",
      "0   2018-2019                                  12.474025\n",
      "1   2019-2020                                  21.444695\n",
      "2   2020-2021                                  34.454594\n",
      "3   2021-2022                                   8.402004\n",
      "4   2022-2023                                   8.808450\n",
      "5   2023-2024                                  14.159849\n",
      "6   2024-2025                                        NaN\n"
     ]
    }
   ],
   "source": [
    "# metric 5b: phone as a share of omnichannel usage\n",
    "# Group by fiscal year and calculate total transactions where omnichannel is 1 for each fiscal year\n",
    "total_transactions_by_year = si[si['omnichannel'] == 1].groupby('fiscal_yr')['total_transactions'].sum()\n",
    "\n",
    "# Group by fiscal year and calculate the sum of phone app inquiries where omnichannel is 1 for each fiscal year\n",
    "sum_phone_by_year = si[si['omnichannel'] == 1].groupby('fiscal_yr')['phone_apps_inquiries'].sum()\n",
    "\n",
    "# Calculate the share of phone applications as a percentage of omnichannel usage for each fiscal year\n",
    "share_phone_by_year = (sum_phone_by_year / total_transactions_by_year) * 100\n",
    "\n",
    "# Convert to DataFrame for display\n",
    "share_phone_table = share_phone_by_year.reset_index()\n",
    "\n",
    "# Rename the columns for clarity\n",
    "share_phone_table.columns = ['Fiscal_Year', 'Phone_as_a_Share_of_Omnichannel_Usage_(%)']\n",
    "\n",
    "# Display the resulting table\n",
    "print(share_phone_table)\n"
   ]
  },
  {
   "cell_type": "code",
   "execution_count": null,
   "metadata": {},
   "outputs": [],
   "source": []
  },
  {
   "cell_type": "code",
   "execution_count": null,
   "metadata": {},
   "outputs": [
    {
     "name": "stdout",
     "output_type": "stream",
     "text": [
      "  Fiscal_Year  In-Person_as_a_Share_of_Omnichannel_Usage_(%)\n",
      "0   2018-2019                                      27.581419\n",
      "1   2019-2020                                      26.142931\n",
      "2   2020-2021                                       3.808385\n",
      "3   2021-2022                                       6.231632\n",
      "4   2022-2023                                       9.687857\n",
      "5   2023-2024                                       3.021633\n",
      "6   2024-2025                                            NaN\n"
     ]
    }
   ],
   "source": [
    "# metric 5c: in-person as a share of omnichannel usage\n",
    "# Group by fiscal year and calculate total transactions where omnichannel is 1 for each fiscal year\n",
    "total_transactions_by_year = si[si['omnichannel'] == 1].groupby('fiscal_yr')['total_transactions'].sum()\n",
    "\n",
    "# Group by fiscal year and calculate the sum of in-person applications where omnichannel is 1 for each fiscal year\n",
    "sum_in_person_by_year = si[si['omnichannel'] == 1].groupby('fiscal_yr')['num_applications_in_person'].sum()\n",
    "\n",
    "# Calculate the share of in-person applications as a percentage of omnichannel usage for each fiscal year\n",
    "share_in_person_by_year = (sum_in_person_by_year / total_transactions_by_year) * 100\n",
    "\n",
    "# Convert to DataFrame for display\n",
    "share_in_person_table = share_in_person_by_year.reset_index()\n",
    "\n",
    "# Rename the columns for clarity\n",
    "share_in_person_table.columns = ['Fiscal_Year', 'In-Person_as_a_Share_of_Omnichannel_Usage_(%)']\n",
    "\n",
    "# Display the resulting table\n",
    "print(share_in_person_table)\n"
   ]
  },
  {
   "cell_type": "code",
   "execution_count": null,
   "metadata": {},
   "outputs": [
    {
     "name": "stdout",
     "output_type": "stream",
     "text": [
      "  Fiscal_Year  Number_of_External_Departments\n",
      "0   2018-2019                              72\n",
      "1   2019-2020                              76\n",
      "2   2020-2021                              77\n",
      "3   2021-2022                              77\n",
      "4   2022-2023                              74\n",
      "5   2023-2024                              76\n",
      "6   2024-2025                               1\n"
     ]
    }
   ],
   "source": [
    "# metric 6: number of external departments\n",
    "# Group by fiscal year and calculate the number of distinct external departments for each fiscal year\n",
    "no_departments_by_year = si[si['external'] == 1].groupby('fiscal_yr')['department_en'].nunique()\n",
    "\n",
    "# Convert to DataFrame for display\n",
    "no_departments_table = no_departments_by_year.reset_index()\n",
    "\n",
    "# Rename the columns for clarity\n",
    "no_departments_table.columns = ['Fiscal_Year', 'Number_of_External_Departments']\n",
    "\n",
    "# Display the resulting table\n",
    "print(no_departments_table)\n"
   ]
  },
  {
   "cell_type": "code",
   "execution_count": null,
   "metadata": {},
   "outputs": [
    {
     "name": "stdout",
     "output_type": "stream",
     "text": [
      "                     Fiscal_Year  Number_of_Programs\n",
      "0                      2018-2019                 459\n",
      "1                      2019-2020                 458\n",
      "2                      2020-2021                 514\n",
      "3                      2021-2022                 496\n",
      "4                      2022-2023                 464\n",
      "5                      2023-2024                 507\n",
      "6                      2024-2025                   1\n",
      "7  Timestamp:2025-04-01_14:23:25                   0\n"
     ]
    }
   ],
   "source": [
    "# metric 7: number of programs\n",
    "# Group by fiscal year and calculate the number of distinct programs for each fiscal year\n",
    "no_programs_by_year = si.groupby('fiscal_yr')['program_id'].nunique()\n",
    "\n",
    "# Convert to DataFrame for display\n",
    "no_programs_table = no_programs_by_year.reset_index()\n",
    "\n",
    "# Rename the columns for clarity\n",
    "no_programs_table.columns = ['Fiscal_Year', 'Number_of_Programs']\n",
    "\n",
    "# Display the resulting table\n",
    "print(no_programs_table)\n"
   ]
  },
  {
   "cell_type": "code",
   "execution_count": null,
   "metadata": {},
   "outputs": [
    {
     "name": "stdout",
     "output_type": "stream",
     "text": [
      "  Fiscal_Year  Number_of_External_Services\n",
      "0   2018-2019                         1132\n",
      "1   2019-2020                         1181\n",
      "2   2020-2021                         1304\n",
      "3   2021-2022                         1482\n",
      "4   2022-2023                         1560\n",
      "5   2023-2024                         1559\n",
      "6   2024-2025                            1\n"
     ]
    }
   ],
   "source": [
    "# metric 8: number of external services (data is already filtered for external)\n",
    "# Group by fiscal year and calculate the number of distinct external services for each fiscal year\n",
    "no_external_service_by_year = si[si['external'] == 1].groupby('fiscal_yr')['service_id'].nunique()\n",
    "\n",
    "# Convert to DataFrame for display\n",
    "no_external_service_table = no_external_service_by_year.reset_index()\n",
    "\n",
    "# Rename the columns for clarity\n",
    "no_external_service_table.columns = ['Fiscal_Year', 'Number_of_External_Services']\n",
    "\n",
    "# Display the resulting table\n",
    "print(no_external_service_table)\n"
   ]
  },
  {
   "cell_type": "code",
   "execution_count": null,
   "metadata": {},
   "outputs": [
    {
     "name": "stdout",
     "output_type": "stream",
     "text": [
      "  Fiscal_Year  Number_of_High_Volume_Services\n",
      "0   2018-2019                             117\n",
      "1   2019-2020                             126\n",
      "2   2020-2021                             123\n",
      "3   2021-2022                             134\n",
      "4   2022-2023                             116\n",
      "5   2023-2024                             117\n"
     ]
    }
   ],
   "source": [
    "# metric 9: number of high volume services\n",
    "# Group by fiscal year and calculate the number of distinct high volume external services for each fiscal year\n",
    "no_highvolume_services_by_year = si[(si['external'] == 1) & (si['highvolume'] == 1)].groupby('fiscal_yr')['service_id'].nunique()\n",
    "\n",
    "# Convert to DataFrame for display\n",
    "no_highvolume_services_table = no_highvolume_services_by_year.reset_index()\n",
    "\n",
    "# Rename the columns for clarity\n",
    "no_highvolume_services_table.columns = ['Fiscal_Year', 'Number_of_High_Volume_Services']\n",
    "\n",
    "# Display the resulting table\n",
    "print(no_highvolume_services_table)\n"
   ]
  },
  {
   "cell_type": "code",
   "execution_count": null,
   "metadata": {},
   "outputs": [
    {
     "name": "stdout",
     "output_type": "stream",
     "text": [
      "  Fiscal_Year  Total_Online_Transactions_(Millions)\n",
      "0   2018-2019                            174.630378\n",
      "1   2019-2020                            156.831471\n",
      "2   2020-2021                            202.706431\n",
      "3   2021-2022                            196.235510\n",
      "4   2022-2023                            268.647250\n",
      "5   2023-2024                            254.970341\n",
      "6   2024-2025                              0.000000\n"
     ]
    }
   ],
   "source": [
    "# metric 10: total online transactions (in millions)\n",
    "# Group by fiscal year and calculate the total online transactions (in millions) for each fiscal year where external == 1\n",
    "total_online_transactions_by_year = si[si['external'] == 1].groupby('fiscal_yr')['num_applications_online'].sum() / 1000000\n",
    "\n",
    "# Convert to DataFrame for display\n",
    "total_online_transactions_table = total_online_transactions_by_year.reset_index()\n",
    "\n",
    "# Rename the columns for clarity\n",
    "total_online_transactions_table.columns = ['Fiscal_Year', 'Total_Online_Transactions_(Millions)']\n",
    "\n",
    "# Display the resulting table\n",
    "print(total_online_transactions_table)\n",
    "\n"
   ]
  },
  {
   "cell_type": "code",
   "execution_count": null,
   "metadata": {},
   "outputs": [
    {
     "name": "stdout",
     "output_type": "stream",
     "text": [
      "  Fiscal_Year  Total_Phone_Transactions_(Millions)\n",
      "0   2018-2019                            53.099291\n",
      "1   2019-2020                            90.704008\n",
      "2   2020-2021                           137.242208\n",
      "3   2021-2022                           104.413441\n",
      "4   2022-2023                            72.927098\n",
      "5   2023-2024                            71.119731\n",
      "6   2024-2025                             0.000000\n"
     ]
    }
   ],
   "source": [
    "# metric 11: total phone transactions (in millions)\n",
    "# Group by fiscal year and calculate the total phone transactions (in millions) for each fiscal year where external == 1\n",
    "total_phone_transactions_by_year = si[si['external'] == 1].groupby('fiscal_yr')['phone_apps_inquiries'].sum() / 1000000\n",
    "\n",
    "# Convert to DataFrame for display\n",
    "total_phone_transactions_table = total_phone_transactions_by_year.reset_index()\n",
    "\n",
    "# Rename the columns for clarity\n",
    "total_phone_transactions_table.columns = ['Fiscal_Year', 'Total_Phone_Transactions_(Millions)']\n",
    "\n",
    "# Display the resulting table\n",
    "print(total_phone_transactions_table)\n"
   ]
  },
  {
   "cell_type": "code",
   "execution_count": null,
   "metadata": {},
   "outputs": [
    {
     "name": "stdout",
     "output_type": "stream",
     "text": [
      "Warning: 2024-2025669 not found in 'FYSID'. Setting total transactions to 0.\n",
      "Warning: Timestamp:2025-04-01_14:23:25669 not found in 'FYSID'. Setting total transactions to 0.\n",
      "                     Fiscal Year  Total In-Person Transactions (Millions)\n",
      "0                      2018-2019                                61.242407\n",
      "1                      2019-2020                                55.250738\n",
      "2                      2020-2021                                 6.520391\n",
      "3                      2021-2022                                 4.573685\n",
      "4                      2022-2023                                 8.597962\n",
      "5                      2023-2024                                13.431918\n",
      "6                      2024-2025                                 0.000000\n",
      "7  Timestamp:2025-04-01_14:23:25                                 0.000000\n"
     ]
    }
   ],
   "source": [
    "# metric 12: total in person transactions (in millions)\n",
    "# Function to calculate total in-person transactions for each fiscal year\n",
    "def calculate_in_person_transactions(group):\n",
    "    # Total in-person applications for the fiscal year\n",
    "    in_person_applications = group[group['external'] == 1]['num_applications_in_person'].sum()\n",
    "\n",
    "    # Generate the lookup value based on the fiscal year\n",
    "    lookup_value = f\"{group['fiscal_yr'].iloc[0]}669\" \n",
    "    # Check if the lookup_value exists in the 'FYSID' column\n",
    "    lookup_data = si[si['FYSID'] == lookup_value]\n",
    "    \n",
    "    if not lookup_data.empty:\n",
    "        lookup_result = lookup_data['total_transactions'].iloc[0]\n",
    "    else:\n",
    "        # Handle the case where the lookup_value doesn't exist (e.g., set to 0 or None)\n",
    "        print(f\"Warning: {lookup_value} not found in 'FYSID'. Setting total transactions to 0.\")\n",
    "        lookup_result = 0\n",
    "\n",
    "    # Subtract CBSA from in-person applications and convert to millions\n",
    "    total_in_person_applications = (in_person_applications - lookup_result) / 1000000\n",
    "\n",
    "    return total_in_person_applications\n",
    "\n",
    "# Group by fiscal year\n",
    "grouped_data = si.groupby('fiscal_yr')\n",
    "\n",
    "# Prepare data to store results\n",
    "results = []\n",
    "\n",
    "# Calculate total in-person transactions for each fiscal year\n",
    "for fiscal_year, group in grouped_data:\n",
    "    result = calculate_in_person_transactions(group)\n",
    "    results.append([fiscal_year, result])\n",
    "\n",
    "# Create a DataFrame for better visualization\n",
    "results_df = pd.DataFrame(results, columns=['Fiscal Year', 'Total In-Person Transactions (Millions)'])\n",
    "\n",
    "# Display the table\n",
    "print(results_df)\n",
    "\n",
    "\n"
   ]
  },
  {
   "cell_type": "code",
   "execution_count": null,
   "metadata": {},
   "outputs": [
    {
     "name": "stdout",
     "output_type": "stream",
     "text": [
      "  Fiscal_Year  Total_Mail_Applications_(Millions)\n",
      "0   2018-2019                           42.316481\n",
      "1   2019-2020                           33.221419\n",
      "2   2020-2021                           19.468112\n",
      "3   2021-2022                           22.377948\n",
      "4   2022-2023                           31.707932\n",
      "5   2023-2024                           21.405253\n",
      "6   2024-2025                            0.000000\n"
     ]
    }
   ],
   "source": [
    "# metric 13: total mail applications ( in millions)\n",
    "# Group by fiscal year and calculate the total mail applications (in millions) for each fiscal year where external == 1\n",
    "total_mail_applications_by_year = si[si['external'] == 1].groupby('fiscal_yr')['num_applications_by_mail'].sum() / 1000000\n",
    "\n",
    "# Convert to DataFrame for display\n",
    "total_mail_applications_table = total_mail_applications_by_year.reset_index()\n",
    "\n",
    "# Rename the columns for clarity\n",
    "total_mail_applications_table.columns = ['Fiscal_Year', 'Total_Mail_Applications_(Millions)']\n",
    "\n",
    "# Display the resulting table\n",
    "print(total_mail_applications_table)\n"
   ]
  },
  {
   "cell_type": "code",
   "execution_count": null,
   "metadata": {},
   "outputs": [
    {
     "name": "stdout",
     "output_type": "stream",
     "text": [
      "                     Fiscal_Year  \\\n",
      "0                      2018-2019   \n",
      "1                      2022-2023   \n",
      "2                      2019-2020   \n",
      "3                      2020-2021   \n",
      "4                      2021-2022   \n",
      "5                      2023-2024   \n",
      "6                      2024-2025   \n",
      "7  Timestamp:2025-04-01_14:23:25   \n",
      "\n",
      "   Share_of_External_Services_Online_End-to-End_(%)  \n",
      "0                                         18.727915  \n",
      "1                                         22.051282  \n",
      "2                                         18.374259  \n",
      "3                                         22.699387  \n",
      "4                                         21.524966  \n",
      "5                                         24.053881  \n",
      "6                                          0.000000  \n",
      "7                                          0.000000  \n"
     ]
    }
   ],
   "source": [
    "# Metric 14: Share of External Services Online End to End - Updated Formula for All Fiscal Years\n",
    "\n",
    "# Convert the 'onlineE2E' and 'external' columns to numeric values (in case they're stored as strings)\n",
    "si['onlineE2E'] = pd.to_numeric(si['onlineE2E'], errors='coerce')\n",
    "si['external'] = pd.to_numeric(si['external'], errors='coerce')\n",
    "\n",
    "# Create a list to store results\n",
    "results = []\n",
    "\n",
    "# Loop through each fiscal year\n",
    "for fiscal_year in si['fiscal_yr'].unique():\n",
    "    # Filter for the current fiscal year and online end-to-end services (onlineE2E == 1)\n",
    "    fiscal_year_data = si[(si['fiscal_yr'] == fiscal_year) & (si['onlineE2E'] == 1)]\n",
    "    \n",
    "    # Filter for external services in the current fiscal year\n",
    "    fiscal_year_external = si[(si['fiscal_yr'] == fiscal_year) & (si['external'] == 1)]\n",
    "\n",
    "    # Distinct external services\n",
    "    no_external_service = fiscal_year_external['service_id'].nunique()\n",
    "    \n",
    "    # Sum the 'external' column for the filtered data (for onlineE2E == 1)\n",
    "    sum_external_services = fiscal_year_data['external'].sum()\n",
    "\n",
    "    # Calculate the share of external services online end-to-end\n",
    "    if no_external_service != 0:\n",
    "        share_of_ext_onl_ser = (sum_external_services / no_external_service) * 100\n",
    "    else:\n",
    "        share_of_ext_onl_ser = 0  # If no external services, set share to 0\n",
    "    \n",
    "    # Append the result for the fiscal year\n",
    "    results.append([fiscal_year, share_of_ext_onl_ser])\n",
    "\n",
    "# Convert results to DataFrame\n",
    "share_ext_onlE2E_table = pd.DataFrame(results, columns=['Fiscal_Year', 'Share_of_External_Services_Online_End-to-End_(%)'])\n",
    "\n",
    "# Display the resulting table\n",
    "print(share_ext_onlE2E_table)"
   ]
  },
  {
   "cell_type": "code",
   "execution_count": null,
   "metadata": {},
   "outputs": [
    {
     "name": "stdout",
     "output_type": "stream",
     "text": [
      "                     Fiscal_Year  \\\n",
      "0                      2018-2019   \n",
      "1                      2022-2023   \n",
      "2                      2019-2020   \n",
      "3                      2020-2021   \n",
      "4                      2021-2022   \n",
      "5                      2023-2024   \n",
      "6                      2024-2025   \n",
      "7  Timestamp:2025-04-01_14:23:25   \n",
      "\n",
      "   Share_of_External_Services_with_At_Least_One_Point_Online_(%)  \n",
      "0                                          47.703180              \n",
      "1                                          44.679487              \n",
      "2                                          48.010161              \n",
      "3                                          49.463190              \n",
      "4                                          46.018893              \n",
      "5                                          45.670301              \n",
      "6                                           0.000000              \n",
      "7                                           0.000000              \n"
     ]
    }
   ],
   "source": [
    "# metric 15: share of external serices that have at least one point online \n",
    "# Convert the 'onl_morepoints' column to numeric values (in case it's stored as strings)\n",
    "si['onl_morepoints'] = pd.to_numeric(si['onl_morepoints'], errors='coerce')\n",
    "\n",
    "# Create a list to store results\n",
    "results = []\n",
    "\n",
    "# Loop through each fiscal year\n",
    "for fiscal_year in si['fiscal_yr'].unique():\n",
    "    # Filter for the current fiscal year and external services\n",
    "    fiscal_year_data = si[(si['fiscal_yr'] == fiscal_year) & (si['external'] == 1)]\n",
    "    \n",
    "    # Services with at least one point online (onl_morepoints == 1)\n",
    "    onl_onepoint = fiscal_year_data[fiscal_year_data['onl_morepoints'] == 1]['service_id'].nunique()\n",
    "    \n",
    "    # All services for the fiscal year\n",
    "    all_services = fiscal_year_data['service_id'].nunique()\n",
    "    \n",
    "    # Calculate the share of services with at least one point online\n",
    "    if all_services != 0:\n",
    "        share_service = (onl_onepoint / all_services) * 100\n",
    "    else:\n",
    "        share_service = 0  # If no services, set share to 0\n",
    "    \n",
    "    # Append the result for the fiscal year\n",
    "    results.append([fiscal_year, share_service])\n",
    "\n",
    "# Convert results to DataFrame\n",
    "share_service_table = pd.DataFrame(results, columns=['Fiscal_Year', 'Share_of_External_Services_with_At_Least_One_Point_Online_(%)'])\n",
    "\n",
    "# Display the resulting table\n",
    "print(share_service_table)\n"
   ]
  },
  {
   "cell_type": "code",
   "execution_count": null,
   "metadata": {},
   "outputs": [
    {
     "name": "stdout",
     "output_type": "stream",
     "text": [
      "                     Fiscal_Year  \\\n",
      "0                      2018-2019   \n",
      "1                      2022-2023   \n",
      "2                      2019-2020   \n",
      "3                      2020-2021   \n",
      "4                      2021-2022   \n",
      "5                      2023-2024   \n",
      "6                      2024-2025   \n",
      "7  Timestamp:2025-04-01_14:23:25   \n",
      "\n",
      "   Share_of_Services_Meeting_Service_Standards_(%)  \n",
      "0                                        40.194346  \n",
      "1                                        42.051282  \n",
      "2                                        42.082981  \n",
      "3                                        43.711656  \n",
      "4                                        41.632928  \n",
      "5                                        39.704939  \n",
      "6                                         0.000000  \n",
      "7                                         0.000000  \n"
     ]
    }
   ],
   "source": [
    "# metric 16: services meeting service standards\n",
    "# Create a list to store results\n",
    "results = []\n",
    "\n",
    "# Loop through each fiscal year\n",
    "for fiscal_year in si['fiscal_yr'].unique():\n",
    "    # Filter for the current fiscal year and external services\n",
    "    fiscal_year_data = si[(si['fiscal_yr'] == fiscal_year) & (si['external'] == 1)]\n",
    "    \n",
    "    # Services that met some standards (STDS_metsome == 1)\n",
    "    ser_metsome = fiscal_year_data[fiscal_year_data['STDS_metsome'] == 1]['service_id'].nunique()\n",
    "    \n",
    "    # All services for the fiscal year\n",
    "    all_services = fiscal_year_data['service_id'].nunique()\n",
    "    \n",
    "    # Calculate the share of services meeting service standards\n",
    "    if all_services != 0:\n",
    "        ser_metstds = (ser_metsome / all_services) * 100\n",
    "    else:\n",
    "        ser_metstds = 0  # If no services, set share to 0\n",
    "    \n",
    "    # Append the result for the fiscal year\n",
    "    results.append([fiscal_year, ser_metstds])\n",
    "\n",
    "# Convert results to DataFrame\n",
    "ser_metstds_table = pd.DataFrame(results, columns=['Fiscal_Year', 'Share_of_Services_Meeting_Service_Standards_(%)'])\n",
    "\n",
    "# Display the resulting table\n",
    "print(ser_metstds_table)\n"
   ]
  },
  {
   "cell_type": "code",
   "execution_count": null,
   "metadata": {},
   "outputs": [
    {
     "name": "stdout",
     "output_type": "stream",
     "text": [
      "  Fiscal_Year  Standards_Meeting_Targets  Total_Standards  \\\n",
      "0   2018-2019                        832             1210   \n",
      "1   2019-2020                        946             1319   \n",
      "2   2020-2021                       1236             1713   \n",
      "3   2021-2022                       1178             1747   \n",
      "4   2022-2023                       1315             1909   \n",
      "5   2023-2024                       1228             1674   \n",
      "\n",
      "   Percentage_Of_Standards_Meeting_Target  \n",
      "0                               68.760331  \n",
      "1                               71.721001  \n",
      "2                               72.154116  \n",
      "3                               67.429880  \n",
      "4                               68.884233  \n",
      "5                               73.357228  \n"
     ]
    }
   ],
   "source": [
    "# metric 16: services meeting service standards #UPDATED by fiscal year\n",
    "# Standards Meeting Targets\n",
    "# Filter rows based on the conditions for each fiscal year\n",
    "filtered_data = ss[(ss['target_met'] == 'Y') & \n",
    "                   (ss['external_service'] == 1)]\n",
    "\n",
    "# Group by fiscal year and count the rows that meet the target for each fiscal year\n",
    "standards_meeting_targets_by_year = filtered_data.groupby('fiscal_yr').size()\n",
    "\n",
    "# Total Standards\n",
    "# Filter rows based on the conditions for each fiscal year\n",
    "filtered_data_total = ss[(ss['target_met'].notna()) & \n",
    "                         (ss['external_service'] == 1)]\n",
    "\n",
    "# Group by fiscal year and count the rows for each fiscal year\n",
    "total_standards_by_year = filtered_data_total.groupby('fiscal_yr').size()\n",
    "\n",
    "# Calculate the percentage of standards meeting target for each fiscal year\n",
    "percentage_of_standards_meeting_target_by_year = (standards_meeting_targets_by_year / total_standards_by_year) * 100\n",
    "\n",
    "# Combine the results into a DataFrame for easy visualization\n",
    "standards_results = pd.DataFrame({\n",
    "    'Standards_Meeting_Targets': standards_meeting_targets_by_year,\n",
    "    'Total_Standards': total_standards_by_year,\n",
    "    'Percentage_Of_Standards_Meeting_Target': percentage_of_standards_meeting_target_by_year\n",
    "})\n",
    "\n",
    "# Reset index to make 'fiscal_yr' a column and display the result\n",
    "standards_results = standards_results.reset_index()\n",
    "\n",
    "# Rename the columns for clarity\n",
    "standards_results.columns = ['Fiscal_Year', 'Standards_Meeting_Targets', 'Total_Standards', 'Percentage_Of_Standards_Meeting_Target']\n",
    "\n",
    "# Display the resulting table\n",
    "print(standards_results)\n"
   ]
  },
  {
   "cell_type": "code",
   "execution_count": null,
   "metadata": {},
   "outputs": [
    {
     "name": "stdout",
     "output_type": "stream",
     "text": [
      "                     Fiscal_Year  \\\n",
      "0                      2018-2019   \n",
      "1                      2022-2023   \n",
      "2                      2019-2020   \n",
      "3                      2020-2021   \n",
      "4                      2021-2022   \n",
      "5                      2023-2024   \n",
      "6                      2024-2025   \n",
      "7  Timestamp:2025-04-01_14:23:25   \n",
      "\n",
      "   Share_of_High_Volume_Services_Online_End-to-End_(%)  \n",
      "0                                          32.323232    \n",
      "1                                          51.020408    \n",
      "2                                          39.639640    \n",
      "3                                          55.140187    \n",
      "4                                          52.941176    \n",
      "5                                          56.122449    \n",
      "6                                           0.000000    \n",
      "7                                           0.000000    \n"
     ]
    }
   ],
   "source": [
    "# metric 17: share of external high volume services online end to end\n",
    "# Convert the 'onlineE2E' and 'online_enabledNA' columns to numeric values (in case they're stored as strings)\n",
    "si['onlineE2E'] = pd.to_numeric(si['onlineE2E'], errors='coerce')\n",
    "si['online_enabledNA'] = pd.to_numeric(si['online_enabledNA'], errors='coerce')\n",
    "\n",
    "# Create a list to store results\n",
    "results = []\n",
    "\n",
    "# Loop through each fiscal year\n",
    "for fiscal_year in si['fiscal_yr'].unique():\n",
    "    # Filter for the current fiscal year and external high volume services\n",
    "    fiscal_year_data = si[(si['fiscal_yr'] == fiscal_year) & (si['external'] == 1) & (si['highvolume'] == 1)]\n",
    "    \n",
    "    # High volume services online end to end (onlineE2E == 1)\n",
    "    highvol_E2E = fiscal_year_data[fiscal_year_data['onlineE2E'] == 1]['service_id'].nunique()\n",
    "    \n",
    "    # High volume online enabled NA services where online_enabledNA < 6\n",
    "    highvol_enabledNA = fiscal_year_data[fiscal_year_data['online_enabledNA'] < 6]['service_id'].nunique()\n",
    "    \n",
    "    # Calculate the share of high volume services online end to end\n",
    "    if highvol_enabledNA != 0:\n",
    "        high_vol_E2E = (highvol_E2E / highvol_enabledNA) * 100\n",
    "    else:\n",
    "        high_vol_E2E = 0  # If no services are online-enabled, set share to 0\n",
    "    \n",
    "    # Append the result for the fiscal year\n",
    "    results.append([fiscal_year, high_vol_E2E])\n",
    "\n",
    "# Convert results to DataFrame\n",
    "high_vol_E2E_table = pd.DataFrame(results, columns=['Fiscal_Year', 'Share_of_High_Volume_Services_Online_End-to-End_(%)'])\n",
    "\n",
    "# Display the resulting table\n",
    "print(high_vol_E2E_table)\n"
   ]
  },
  {
   "cell_type": "code",
   "execution_count": null,
   "metadata": {},
   "outputs": [
    {
     "name": "stdout",
     "output_type": "stream",
     "text": [
      "                     Fiscal_Year  \\\n",
      "0                      2018-2019   \n",
      "1                      2022-2023   \n",
      "2                      2019-2020   \n",
      "3                      2020-2021   \n",
      "4                      2021-2022   \n",
      "5                      2023-2024   \n",
      "6                      2024-2025   \n",
      "7  Timestamp:2025-04-01_14:23:25   \n",
      "\n",
      "   Share_of_High_Volume_Services_with_At_Least_One_Point_Online_(%)  \n",
      "0                                          71.794872                 \n",
      "1                                          76.724138                 \n",
      "2                                          76.190476                 \n",
      "3                                          77.235772                 \n",
      "4                                          79.104478                 \n",
      "5                                          75.213675                 \n",
      "6                                           0.000000                 \n",
      "7                                           0.000000                 \n"
     ]
    }
   ],
   "source": [
    "# metric 18: share of external high volume services which have at least one point online \n",
    "# Convert the 'onl_morepoints' column to numeric values (in case it's stored as strings)\n",
    "si['onl_morepoints'] = pd.to_numeric(si['onl_morepoints'], errors='coerce')\n",
    "\n",
    "# Create a list to store results\n",
    "results = []\n",
    "\n",
    "# Loop through each fiscal year\n",
    "for fiscal_year in si['fiscal_yr'].unique():\n",
    "    # Filter for the current fiscal year and external high volume services\n",
    "    fiscal_year_data = si[(si['fiscal_yr'] == fiscal_year) & (si['external'] == 1) & (si['highvolume'] == 1)]\n",
    "    \n",
    "    # High volume services with at least one point online (onl_morepoints == 1)\n",
    "    highvol_1point_count = fiscal_year_data[fiscal_year_data['onl_morepoints'] == 1]['service_id'].nunique()\n",
    "    \n",
    "    # High volume services (all)\n",
    "    highvol_all_count = fiscal_year_data['service_id'].nunique()\n",
    "    \n",
    "    # Calculate the share of high volume services with at least one point online\n",
    "    if highvol_all_count != 0:\n",
    "        share_highvol_1point = (highvol_1point_count / highvol_all_count) * 100\n",
    "    else:\n",
    "        share_highvol_1point = 0  # If no high volume services, set share to 0\n",
    "    \n",
    "    # Append the result for the fiscal year\n",
    "    results.append([fiscal_year, share_highvol_1point])\n",
    "\n",
    "# Convert results to DataFrame\n",
    "highvol_1point_share_table = pd.DataFrame(results, columns=['Fiscal_Year', 'Share_of_High_Volume_Services_with_At_Least_One_Point_Online_(%)'])\n",
    "\n",
    "# Display the resulting table\n",
    "print(highvol_1point_share_table)"
   ]
  },
  {
   "cell_type": "code",
   "execution_count": null,
   "metadata": {},
   "outputs": [
    {
     "name": "stdout",
     "output_type": "stream",
     "text": [
      "                     Fiscal_Year  \\\n",
      "0                      2018-2019   \n",
      "1                      2022-2023   \n",
      "2                      2019-2020   \n",
      "3                      2020-2021   \n",
      "4                      2021-2022   \n",
      "5                      2023-2024   \n",
      "6                      2024-2025   \n",
      "7  Timestamp:2025-04-01_14:23:25   \n",
      "\n",
      "   Share_of_High_Volume_Services_Meeting_Service_Standards_(%)  \n",
      "0                                          44.444444            \n",
      "1                                          54.310345            \n",
      "2                                          49.206349            \n",
      "3                                          45.528455            \n",
      "4                                          39.552239            \n",
      "5                                          52.136752            \n",
      "6                                           0.000000            \n",
      "7                                           0.000000            \n"
     ]
    }
   ],
   "source": [
    "# metric 19: high volume services meeting service standards\n",
    "# Create a list to store results\n",
    "results = []\n",
    "\n",
    "# Loop through each fiscal year\n",
    "for fiscal_year in si['fiscal_yr'].unique():\n",
    "    # Filter for the current fiscal year and external high volume services\n",
    "    fiscal_year_data = si[(si['fiscal_yr'] == fiscal_year) & (si['external'] == 1) & (si['highvolume'] == 1)]\n",
    "    \n",
    "    # High volume services that meet service standards (STDS_metsome == 1)\n",
    "    high_vol_ser_metstds_count = fiscal_year_data[fiscal_year_data['STDS_metsome'] == 1]['service_id'].nunique()\n",
    "    \n",
    "    # High volume services (all)\n",
    "    highvol_all_count = fiscal_year_data['service_id'].nunique()\n",
    "    \n",
    "    # Calculate the share of high volume services meeting service standards\n",
    "    if highvol_all_count != 0:\n",
    "        high_vol_ser_metstds = (high_vol_ser_metstds_count / highvol_all_count) * 100\n",
    "    else:\n",
    "        high_vol_ser_metstds = 0  # If no high volume services, set share to 0\n",
    "    \n",
    "    # Append the result for the fiscal year\n",
    "    results.append([fiscal_year, high_vol_ser_metstds])\n",
    "\n",
    "# Convert results to DataFrame\n",
    "high_vol_ser_metstds_table = pd.DataFrame(results, columns=['Fiscal_Year', 'Share_of_High_Volume_Services_Meeting_Service_Standards_(%)'])\n",
    "\n",
    "# Display the resulting table\n",
    "print(high_vol_ser_metstds_table)\n"
   ]
  }
 ],
 "metadata": {
  "kernelspec": {
   "display_name": "Python 3",
   "language": "python",
   "name": "python3"
  },
  "language_info": {
   "codemirror_mode": {
    "name": "ipython",
    "version": 3
   },
   "file_extension": ".py",
   "mimetype": "text/x-python",
   "name": "python",
   "nbconvert_exporter": "python",
   "pygments_lexer": "ipython3",
   "version": "3.12.1"
  }
 },
 "nbformat": 4,
 "nbformat_minor": 2
}
