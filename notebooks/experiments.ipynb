{
 "cells": [
  {
   "cell_type": "code",
   "execution_count": 1,
   "id": "fd2d413a-666f-49d4-b86c-7d6898a496a5",
   "metadata": {},
   "outputs": [],
   "source": [
    "import pandas as pd\n",
    "import numpy as np\n",
    "import re\n",
    "import pytz\n",
    "import os\n",
    "from pathlib import Path\n",
    "import sys\n",
    "sys.path.append(\"/home/jovyan/shared/service-data\")\n",
    "\n",
    "from src.clean import clean_percentage, normalize_string, standardize_column_names, clean_fiscal_yr\n",
    "from src.load import load_csv_from_raw\n",
    "from src.export import export_to_csv\n",
    "from src.merge import merge_si, merge_ss\n",
    "\n",
    "base_dir = Path.cwd()\n",
    "parent_dir = base_dir.parent"
   ]
  },
  {
   "cell_type": "code",
   "execution_count": 2,
   "id": "5da84c33-188b-422c-b962-a365eb81f01a",
   "metadata": {},
   "outputs": [
    {
     "name": "stdout",
     "output_type": "stream",
     "text": [
      "Exported dept.csv to /home/jovyan/shared/service-data/outputs/utils\n",
      "Exported si_all.csv to /home/jovyan/shared/service-data/outputs/utils\n",
      "Exported sid_list.csv to /home/jovyan/shared/service-data/outputs/utils\n",
      "Exported dept.csv to /home/jovyan/shared/service-data/outputs/utils\n",
      "Exported ss_all.csv to /home/jovyan/shared/service-data/outputs/utils\n",
      "<class 'pandas.core.frame.DataFrame'>\n",
      "RangeIndex: 12752 entries, 0 to 12751\n",
      "Data columns (total 28 columns):\n",
      " #   Column                      Non-Null Count  Dtype  \n",
      "---  ------                      --------------  -----  \n",
      " 0   fiscal_yr                   12752 non-null  object \n",
      " 1   service_id                  12752 non-null  object \n",
      " 2   service_name_en             12752 non-null  object \n",
      " 3   service_name_fr             12752 non-null  object \n",
      " 4   service_standard_id         12751 non-null  object \n",
      " 5   service_standard_en         12734 non-null  object \n",
      " 6   service_standard_fr         12681 non-null  object \n",
      " 7   type                        12752 non-null  object \n",
      " 8   gcss_tool_fiscal_yr         5724 non-null   object \n",
      " 9   channel                     12752 non-null  object \n",
      " 10  channel_comments_en         4346 non-null   object \n",
      " 11  channel_comments_fr         4386 non-null   object \n",
      " 12  target_type                 10424 non-null  object \n",
      " 13  target                      12471 non-null  float64\n",
      " 14  volume_meeting_target       11687 non-null  float64\n",
      " 15  total_volume                11808 non-null  float64\n",
      " 16  performance                 9389 non-null   float64\n",
      " 17  comments_en                 4787 non-null   object \n",
      " 18  comments_fr                 4792 non-null   object \n",
      " 19  target_met                  10165 non-null  object \n",
      " 20  standards_targets_uri_en    8962 non-null   object \n",
      " 21  standards_targets_uri_fr    8989 non-null   object \n",
      " 22  performance_results_uri_en  2867 non-null   object \n",
      " 23  performance_results_uri_fr  3010 non-null   object \n",
      " 24  org_name_variant            12752 non-null  object \n",
      " 25  org_id                      12752 non-null  object \n",
      " 26  department_en               12752 non-null  object \n",
      " 27  department_fr               12752 non-null  object \n",
      "dtypes: float64(4), object(24)\n",
      "memory usage: 2.7+ MB\n"
     ]
    }
   ],
   "source": [
    "si = merge_si()\n",
    "ss = merge_ss()"
   ]
  },
  {
   "cell_type": "code",
   "execution_count": 3,
   "id": "6acac893-c5c6-4c6c-b9db-3ffc98452765",
   "metadata": {},
   "outputs": [],
   "source": [
    "si = si.loc[si['service_scope_ext_or_ent']]\n",
    "\n",
    "si_inscope = si.set_index(['fiscal_yr','service_id'])\n",
    "\n",
    "ss_inscope = ss.set_index(['fiscal_yr', 'service_id']).merge(si_inscope['service_scope_ext_or_ent'], how='left', left_index=True, right_index=True)\n",
    "ss_inscope = ss_inscope.loc[ss_inscope['service_scope_ext_or_ent'].notna()].reset_index()\n"
   ]
  },
  {
   "cell_type": "code",
   "execution_count": 15,
   "id": "193223b5-b87c-4ce3-8943-6aec1544819f",
   "metadata": {},
   "outputs": [
    {
     "data": {
      "text/plain": [
       "service_standard_id_total    1744\n",
       "dtype: int64"
      ]
     },
     "execution_count": 15,
     "metadata": {},
     "output_type": "execute_result"
    }
   ],
   "source": [
    "ss = ss_inscope\n",
    "\n",
    "\n",
    "maf2 = ss.loc[:, ['fiscal_yr', 'service_standard_id', 'department_en','department_fr', 'org_id', 'target_met']].dropna()\n",
    "    \n",
    "maf2_num = maf2[maf2['target_met']=='Y'].groupby(['fiscal_yr', 'department_en','department_fr', 'org_id'])['service_standard_id'].count().reset_index()\n",
    "maf2_denom = maf2.groupby(['fiscal_yr', 'department_en','department_fr', 'org_id'])['service_standard_id'].count().reset_index()\n",
    "\n",
    "maf2 = pd.merge(\n",
    "    maf2_num,\n",
    "    maf2_denom,\n",
    "    suffixes=['_met','_total'],\n",
    "    on=['fiscal_yr', 'department_en','department_fr', 'org_id'],\n",
    "    how='outer'\n",
    ")\n",
    "\n",
    "maf2['maf2_score'] = (maf2['service_standard_id_met']/maf2['service_standard_id_total'])*100\n",
    "\n",
    "maf2.loc[maf2['fiscal_yr'] == '2023-2024', ['service_standard_id_total']].sum()"
   ]
  },
  {
   "cell_type": "markdown",
   "id": "d40f98f0-d0a5-4aaa-babe-416f829eafd3",
   "metadata": {},
   "source": [
    "\n",
    "\n",
    "ifoi_en = pd.read_csv(parent_dir / \"inputs\" / \"ifoi_en.csv\")\n",
    "ifoi_fr = pd.read_csv(parent_dir / \"inputs\" / \"ifoi_fr.csv\")\n",
    "\n",
    "ifoi_en = ifoi_en.set_index(ifoi_en.columns[0], drop=True).add_suffix('_en')\n",
    "ifoi_fr = ifoi_fr.set_index(ifoi_fr.columns[0], drop=True).add_suffix('_fr')\n",
    "\n",
    "ifoi_en.set_index(ifoi_en.columns[0], drop=True)\n",
    "ifoi_fr.set_index(ifoi_fr.columns[0], drop=True)\n",
    "\n",
    "ifoi = pd.concat([ifoi_en, ifoi_fr], axis=1)\n",
    "\n",
    "# Extract column lists\n",
    "en_cols = ifoi_en.columns.tolist()\n",
    "fr_cols = ifoi_fr.columns.tolist()\n",
    "\n",
    "# Interleave them by index\n",
    "merged_cols = [col for pair in zip(en_cols, fr_cols) for col in pair]\n",
    "\n",
    "# Apply new column order\n",
    "ifoi = standardize_column_names(ifoi[merged_cols].reset_index())\n",
    "\n",
    "ifoi"
   ]
  }
 ],
 "metadata": {
  "kernelspec": {
   "display_name": "Python 3 (ipykernel)",
   "language": "python",
   "name": "python3"
  },
  "language_info": {
   "codemirror_mode": {
    "name": "ipython",
    "version": 3
   },
   "file_extension": ".py",
   "mimetype": "text/x-python",
   "name": "python",
   "nbconvert_exporter": "python",
   "pygments_lexer": "ipython3",
   "version": "3.12.8"
  }
 },
 "nbformat": 4,
 "nbformat_minor": 5
}
