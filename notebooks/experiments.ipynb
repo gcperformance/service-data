{
 "cells": [
  {
   "cell_type": "code",
   "execution_count": 1,
   "id": "fd2d413a-666f-49d4-b86c-7d6898a496a5",
   "metadata": {},
   "outputs": [],
   "source": [
    "import pandas as pd\n",
    "import numpy as np\n",
    "import re\n",
    "import pytz\n",
    "import os\n",
    "from pathlib import Path\n",
    "import sys\n",
    "sys.path.append(\"/home/jovyan/shared/service-data\")\n",
    "\n",
    "from src.clean import clean_percentage, normalize_string, standardize_column_names, clean_fiscal_yr\n",
    "from src.load import load_csv_from_raw\n",
    "from src.export import export_to_csv\n",
    "from src.merge import merge_si, merge_ss\n",
    "\n",
    "base_dir = Path.cwd()\n",
    "parent_dir = base_dir.parent"
   ]
  },
  {
   "cell_type": "code",
   "execution_count": 2,
   "id": "b219d25d-ddc7-4725-9ebb-d4be85d76e67",
   "metadata": {},
   "outputs": [],
   "source": [
    "# si_2018 = load_csv_from_raw('si_2018.csv')\n",
    "\n",
    "# si_2018.iloc[:, 19:24].head()"
   ]
  },
  {
   "cell_type": "code",
   "execution_count": 3,
   "id": "5da84c33-188b-422c-b962-a365eb81f01a",
   "metadata": {},
   "outputs": [
    {
     "name": "stdout",
     "output_type": "stream",
     "text": [
      "Exported dept.csv to /home/jovyan/shared/service-data/outputs/utils\n",
      "Exported si_all.csv to /home/jovyan/shared/service-data/outputs/utils\n",
      "Exported sid_list.csv to /home/jovyan/shared/service-data/outputs/utils\n",
      "Exported dept.csv to /home/jovyan/shared/service-data/outputs/utils\n",
      "Exported ss_all.csv to /home/jovyan/shared/service-data/outputs/utils\n"
     ]
    }
   ],
   "source": [
    "si = merge_si()\n",
    "ss = merge_ss()"
   ]
  },
  {
   "cell_type": "code",
   "execution_count": 4,
   "id": "6acac893-c5c6-4c6c-b9db-3ffc98452765",
   "metadata": {},
   "outputs": [],
   "source": [
    "si = si.loc[si['service_scope_ext_or_ent']]\n",
    "\n",
    "si_inscope = si.set_index(['fiscal_yr','service_id'])\n",
    "\n",
    "ss_inscope = ss.set_index(['fiscal_yr', 'service_id']).merge(si_inscope['service_scope_ext_or_ent'], how='left', left_index=True, right_index=True)\n",
    "ss_inscope = ss_inscope.loc[ss_inscope['service_scope_ext_or_ent'].notna()].reset_index()\n"
   ]
  },
  {
   "cell_type": "code",
   "execution_count": 5,
   "id": "193223b5-b87c-4ce3-8943-6aec1544819f",
   "metadata": {},
   "outputs": [],
   "source": [
    "ss = ss_inscope"
   ]
  },
  {
   "cell_type": "code",
   "execution_count": 6,
   "id": "bae920be-4438-4838-91bc-6e33aad9af5c",
   "metadata": {},
   "outputs": [
    {
     "name": "stdout",
     "output_type": "stream",
     "text": [
      "<class 'pandas.core.frame.DataFrame'>\n",
      "RangeIndex: 53382 entries, 0 to 53381\n",
      "Data columns (total 7 columns):\n",
      " #   Column                    Non-Null Count  Dtype \n",
      "---  ------                    --------------  ----- \n",
      " 0   fiscal_yr                 53382 non-null  object\n",
      " 1   service_id                53382 non-null  object\n",
      " 2   department_en             53382 non-null  object\n",
      " 3   department_fr             53382 non-null  object\n",
      " 4   org_id                    53382 non-null  object\n",
      " 5   online_interaction_point  53382 non-null  object\n",
      " 6   activation                53214 non-null  object\n",
      "dtypes: object(7)\n",
      "memory usage: 2.9+ MB\n",
      "None\n",
      "Exported maf5_1.csv to /home/jovyan/shared/service-data/notebooks\n",
      "<class 'pandas.core.frame.DataFrame'>\n",
      "RangeIndex: 53382 entries, 0 to 53381\n",
      "Data columns (total 10 columns):\n",
      " #   Column                    Non-Null Count  Dtype \n",
      "---  ------                    --------------  ----- \n",
      " 0   fiscal_yr                 53382 non-null  object\n",
      " 1   service_id                53382 non-null  object\n",
      " 2   department_en             53382 non-null  object\n",
      " 3   department_fr             53382 non-null  object\n",
      " 4   org_id                    53382 non-null  object\n",
      " 5   online_interaction_point  53382 non-null  object\n",
      " 6   activation                53214 non-null  object\n",
      " 7   activation_y              53382 non-null  bool  \n",
      " 8   activation_n              53382 non-null  bool  \n",
      " 9   activation_na             53382 non-null  bool  \n",
      "dtypes: bool(3), object(7)\n",
      "memory usage: 3.0+ MB\n",
      "None\n"
     ]
    }
   ],
   "source": [
    "oip_cols = [\n",
    "        'os_account_registration', \n",
    "        'os_authentication', \n",
    "        'os_application', \n",
    "        'os_decision', \n",
    "        'os_issuance', \n",
    "        'os_issue_resolution_feedback', \n",
    "    ]\n",
    "    \n",
    "# Melt the DataFrame\n",
    "maf5 = pd.melt(\n",
    "    si, \n",
    "    id_vars=['fiscal_yr', 'service_id', 'department_en','department_fr', 'org_id'], \n",
    "    var_name='online_interaction_point', \n",
    "    value_vars=oip_cols,     \n",
    "    value_name='activation')\n",
    "\n",
    "print(maf5.info())\n",
    "export_to_csv(data_dict={'maf5_1': maf5}, output_dir=base_dir)\n",
    "\n",
    "# Create boolean columns for activation states\n",
    "maf5['activation_y'] = (maf5['activation'] == 'Y')\n",
    "maf5['activation_n'] = (maf5['activation'] == 'N')\n",
    "maf5['activation_na'] = ((maf5['activation'] == 'NA') | (maf5['activation'].isnull()))\n",
    "\n",
    "print(maf5.info())\n",
    "\n",
    "# Group by and sum the activation columns\n",
    "maf5 = maf5.groupby(['fiscal_yr', 'department_en','department_fr', 'org_id', 'service_id'])[['activation_y', 'activation_n', 'activation_na']].sum().reset_index()\n",
    "\n",
    "# Determine conditions for online_e2e\n",
    "conditions = [\n",
    "    (maf5['activation_na'] == 6),  # All interaction points are NaN\n",
    "    (maf5['activation_n'] > 0)      # Some interaction points are 'N'\n",
    "]\n",
    "choices = [None, False]\n",
    "\n",
    "maf5['online_e2e'] = np.select(conditions, choices, default=True).astype(bool)\n",
    "\n",
    "# remove all Nan/Nones\n",
    "maf5 = maf5.dropna(subset=['online_e2e'])\n",
    "\n",
    "# Determine department-level counts for online e2e services and all services\n",
    "maf5 = maf5.groupby(['fiscal_yr', 'department_en','department_fr', 'org_id']).agg(\n",
    "    online_e2e_count=('online_e2e', 'sum'),\n",
    "    service_count=('service_id', 'nunique')\n",
    ").reset_index()\n",
    "\n",
    "# Determine score and associated result\n",
    "maf5['maf5_score'] = (maf5['online_e2e_count']/maf5['service_count'])*100\n",
    "# # maf5['maf5_result'] = pd.cut(maf5['maf5_score'], bins=score_bins, labels=score_results, right=False)"
   ]
  },
  {
   "cell_type": "code",
   "execution_count": 7,
   "id": "bbd70c53-1c8d-487f-9d68-d9657c5f3ff1",
   "metadata": {},
   "outputs": [],
   "source": [
    "# maf2 = ss.loc[:, ['fiscal_yr', 'service_standard_id', 'department_en','department_fr', 'org_id', 'target_met']].dropna()\n",
    "    \n",
    "# maf2_num = maf2[maf2['target_met']=='Y'].groupby(['fiscal_yr', 'department_en','department_fr', 'org_id'])['service_standard_id'].count().reset_index()\n",
    "# maf2_denom = maf2.groupby(['fiscal_yr', 'department_en','department_fr', 'org_id'])['service_standard_id'].count().reset_index()\n",
    "\n",
    "# maf2 = pd.merge(\n",
    "#     maf2_num,\n",
    "#     maf2_denom,\n",
    "#     suffixes=['_met','_total'],\n",
    "#     on=['fiscal_yr', 'department_en','department_fr', 'org_id'],\n",
    "#     how='outer'\n",
    "# )\n",
    "\n",
    "# maf2['maf2_score'] = (maf2['service_standard_id_met']/maf2['service_standard_id_total'])*100\n",
    "\n",
    "# maf2.loc[maf2['fiscal_yr'] == '2023-2024', ['service_standard_id_total']].sum()"
   ]
  },
  {
   "cell_type": "code",
   "execution_count": 8,
   "id": "9c7c1534-a8c3-4172-8773-a0b9be645802",
   "metadata": {},
   "outputs": [],
   "source": [
    "\n",
    "\n",
    "# ifoi_en = pd.read_csv(parent_dir / \"inputs\" / \"ifoi_en.csv\")\n",
    "# ifoi_fr = pd.read_csv(parent_dir / \"inputs\" / \"ifoi_fr.csv\")\n",
    "\n",
    "# ifoi_en = ifoi_en.set_index(ifoi_en.columns[0], drop=True).add_suffix('_en')\n",
    "# ifoi_fr = ifoi_fr.set_index(ifoi_fr.columns[0], drop=True).add_suffix('_fr')\n",
    "\n",
    "# ifoi_en.set_index(ifoi_en.columns[0], drop=True)\n",
    "# ifoi_fr.set_index(ifoi_fr.columns[0], drop=True)\n",
    "\n",
    "# ifoi = pd.concat([ifoi_en, ifoi_fr], axis=1)\n",
    "\n",
    "# # Extract column lists\n",
    "# en_cols = ifoi_en.columns.tolist()\n",
    "# fr_cols = ifoi_fr.columns.tolist()\n",
    "\n",
    "# # Interleave them by index\n",
    "# merged_cols = [col for pair in zip(en_cols, fr_cols) for col in pair]\n",
    "\n",
    "# # Apply new column order\n",
    "# ifoi = standardize_column_names(ifoi[merged_cols].reset_index())\n",
    "\n",
    "# ifoi"
   ]
  }
 ],
 "metadata": {
  "kernelspec": {
   "display_name": "Python 3 (ipykernel)",
   "language": "python",
   "name": "python3"
  },
  "language_info": {
   "codemirror_mode": {
    "name": "ipython",
    "version": 3
   },
   "file_extension": ".py",
   "mimetype": "text/x-python",
   "name": "python",
   "nbconvert_exporter": "python",
   "pygments_lexer": "ipython3",
   "version": "3.12.8"
  }
 },
 "nbformat": 4,
 "nbformat_minor": 5
}
