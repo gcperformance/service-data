{
 "cells": [
  {
   "cell_type": "markdown",
   "id": "f9a37f13-0b46-42f5-b8fe-99ff5099f890",
   "metadata": {},
   "source": [
    "# Notebook for tests and experiments"
   ]
  },
  {
   "cell_type": "code",
   "execution_count": null,
   "id": "a65fa6c7-24f9-4fb6-8382-096f3c487d10",
   "metadata": {},
   "outputs": [],
   "source": [
    "import pandas as pd\n",
    "import numpy as np\n",
    "import re\n",
    "import pytz\n",
    "import os\n",
    "from pathlib import Path"
   ]
  },
  {
   "cell_type": "markdown",
   "id": "8d800581-765b-4343-a688-a7b2ef7e679b",
   "metadata": {},
   "source": [
    "import os\n",
    "import csv\n",
    "from collections import defaultdict\n",
    "\n",
    "def get_csv_headers(directory):\n",
    "    \"\"\"\n",
    "    Recursively scans a directory and its subdirectories for CSV files and extracts column headers.\n",
    "\n",
    "    Args:\n",
    "        directory (str): Path to the directory containing CSV files.\n",
    "\n",
    "    Returns:\n",
    "        list: A list of tuples where each tuple contains the file path and a single column header.\n",
    "    \"\"\"\n",
    "    headers = []\n",
    "\n",
    "    # Walk through the directory and subdirectories\n",
    "    for root, _, files in os.walk(directory):\n",
    "        for filename in files:\n",
    "            if filename.endswith(\".csv\"):\n",
    "                file_path = os.path.join(root, filename)\n",
    "                try:\n",
    "                    with open(file_path, mode=\"r\", encoding=\"utf-8\") as file:\n",
    "                        reader = csv.reader(file, delimiter=';')\n",
    "                        # Read the first row as headers\n",
    "                        columns = next(reader)\n",
    "                        for col in columns:\n",
    "                            headers.append((file_path, col))\n",
    "                except Exception as e:\n",
    "                    print(f\"Error reading {file_path}: {e}\")\n",
    "\n",
    "    return headers\n",
    "\n",
    "def save_headers_to_csv(headers, output_file):\n",
    "    \"\"\"\n",
    "    Appends the headers to a CSV file. If the file does not exist, it creates it.\n",
    "\n",
    "    Args:\n",
    "        headers (list): List of tuples with file paths and column headers.\n",
    "        output_file (str): Path to the output CSV file.\n",
    "    \"\"\"\n",
    "    file_exists = os.path.isfile(output_file)\n",
    "    try:\n",
    "        with open(output_file, mode=\"a\", encoding=\"utf-8\", newline='') as file:\n",
    "            writer = csv.writer(file)\n",
    "            if not file_exists:\n",
    "                writer.writerow([\"File Path\", \"Column Header\"])\n",
    "            writer.writerows(headers)\n",
    "        print(f\"Headers saved to {output_file}\")\n",
    "    except Exception as e:\n",
    "        print(f\"Error saving to {output_file}: {e}\")\n",
    "\n",
    "def main():\n",
    "    directory = input(\"Enter the directory path containing CSV files: \")\n",
    "    output_file = input(\"Enter the output file path (e.g., headers_output.csv): \")\n",
    "\n",
    "    if not os.path.isdir(directory):\n",
    "        print(\"Invalid directory path.\")\n",
    "        return\n",
    "\n",
    "    headers = get_csv_headers(directory)\n",
    "    save_headers_to_csv(headers, output_file)\n",
    "\n",
    "if __name__ == \"__main__\":\n",
    "    main()\n",
    "\n"
   ]
  }
 ],
 "metadata": {
  "kernelspec": {
   "display_name": "Python 3 (ipykernel)",
   "language": "python",
   "name": "python3"
  },
  "language_info": {
   "codemirror_mode": {
    "name": "ipython",
    "version": 3
   },
   "file_extension": ".py",
   "mimetype": "text/x-python",
   "name": "python",
   "nbconvert_exporter": "python",
   "pygments_lexer": "ipython3",
   "version": "3.12.8"
  }
 },
 "nbformat": 4,
 "nbformat_minor": 5
}
