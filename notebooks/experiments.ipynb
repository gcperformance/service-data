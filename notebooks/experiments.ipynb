{
 "cells": [
  {
   "cell_type": "code",
   "execution_count": 1,
   "id": "fd2d413a-666f-49d4-b86c-7d6898a496a5",
   "metadata": {},
   "outputs": [],
   "source": [
    "import pandas as pd\n",
    "import numpy as np\n",
    "import re\n",
    "import pytz\n",
    "import os\n",
    "from pathlib import Path\n",
    "import sys\n",
    "sys.path.append(\"/home/jovyan/shared/service-data\")\n",
    "\n",
    "from src.clean import clean_percentage, normalize_string, standardize_column_names, clean_fiscal_yr\n",
    "from src.load import load_csv_from_raw\n",
    "from src.export import export_to_csv\n",
    "from src.merge import merge_si, merge_ss\n",
    "\n",
    "base_dir = Path.cwd()\n",
    "parent_dir = base_dir.parent"
   ]
  },
  {
   "cell_type": "code",
   "execution_count": 2,
   "id": "b219d25d-ddc7-4725-9ebb-d4be85d76e67",
   "metadata": {},
   "outputs": [],
   "source": [
    "# si_2018 = load_csv_from_raw('si_2018.csv')\n",
    "\n",
    "# si_2018.iloc[:, 19:24].head()"
   ]
  },
  {
   "cell_type": "code",
   "execution_count": 3,
   "id": "5da84c33-188b-422c-b962-a365eb81f01a",
   "metadata": {},
   "outputs": [
    {
     "name": "stdout",
     "output_type": "stream",
     "text": [
      "Exported dept.csv to /home/jovyan/shared/service-data/outputs/utils\n",
      "Exported si_all.csv to /home/jovyan/shared/service-data/outputs/utils\n",
      "Exported sid_list.csv to /home/jovyan/shared/service-data/outputs/utils\n",
      "Exported dept.csv to /home/jovyan/shared/service-data/outputs/utils\n",
      "Exported ss_all.csv to /home/jovyan/shared/service-data/outputs/utils\n"
     ]
    }
   ],
   "source": [
    "si = merge_si()\n",
    "ss = merge_ss()"
   ]
  },
  {
   "cell_type": "code",
   "execution_count": 4,
   "id": "6acac893-c5c6-4c6c-b9db-3ffc98452765",
   "metadata": {},
   "outputs": [],
   "source": [
    "si = si.loc[si['service_scope_ext_or_ent']]\n",
    "\n",
    "si_inscope = si.set_index(['fiscal_yr','service_id'])\n",
    "\n",
    "ss_inscope = ss.set_index(['fiscal_yr', 'service_id']).merge(si_inscope['service_scope_ext_or_ent'], how='left', left_index=True, right_index=True)\n",
    "ss_inscope = ss_inscope.loc[ss_inscope['service_scope_ext_or_ent'].notna()].reset_index()\n"
   ]
  },
  {
   "cell_type": "code",
   "execution_count": 5,
   "id": "193223b5-b87c-4ce3-8943-6aec1544819f",
   "metadata": {},
   "outputs": [],
   "source": [
    "ss = ss_inscope"
   ]
  },
  {
   "cell_type": "code",
   "execution_count": 9,
   "id": "bae920be-4438-4838-91bc-6e33aad9af5c",
   "metadata": {},
   "outputs": [],
   "source": [
    "# MAF Question 1: Existence of service standards\n",
    "# As service standards are required under the Policy on Service and Digital, what is the percentage of services that have service standards?\n",
    "\n",
    "# Select relevant columns from service inventory\n",
    "maf1 = si.loc[:, ['fiscal_yr', 'service_id', 'department_en','department_fr', 'org_id']]\n",
    "\n",
    "# Deduplicate service standards to prevent one-to-many expansion\n",
    "ss_unique = ss[['fiscal_yr', 'service_id']].drop_duplicates()\n",
    "\n",
    "# Determine whether each service has a standard by checking for existence in 'service standards'\n",
    "# Merge with 'ss' to check if (fiscal_yr, service_id) exists\n",
    "maf1 = maf1.merge(\n",
    "    ss_unique,  # Use de-duplicated version to check\n",
    "    on=['fiscal_yr', 'service_id'],  # Merge on fiscal year and service ID\n",
    "    how='left',  # Keep all 'maf1' records, add matches from 'ss'\n",
    "    indicator=True  # Adds a column \"_merge\" to show if a match was found\n",
    ")\n",
    "\n",
    "# Create boolean column: True if the service exists in 'ss', otherwise False\n",
    "maf1['service_std_tf'] = maf1['_merge'] == 'both'\n",
    "\n",
    "# Drop the '_merge' column (no longer needed)\n",
    "maf1 = maf1.drop(columns=['_merge'])\n",
    "\n",
    "# Group by department and fiscal year, counting services with and without standards\n",
    "maf1 = maf1.groupby(['fiscal_yr', 'department_en', 'department_fr', 'org_id']).agg(\n",
    "    service_with_std_count=('service_std_tf', 'sum'),  # Count services that have standards (True = 1)\n",
    "    service_count_maf1=('service_id', 'count')  # Count all services\n",
    ").reset_index()\n",
    "\n",
    "maf1['maf1_score'] = (maf1['service_with_std_count']/maf1['service_count_maf1'])*100"
   ]
  },
  {
   "cell_type": "code",
   "execution_count": 7,
   "id": "bbd70c53-1c8d-487f-9d68-d9657c5f3ff1",
   "metadata": {},
   "outputs": [],
   "source": [
    "# maf2 = ss.loc[:, ['fiscal_yr', 'service_standard_id', 'department_en','department_fr', 'org_id', 'target_met']].dropna()\n",
    "    \n",
    "# maf2_num = maf2[maf2['target_met']=='Y'].groupby(['fiscal_yr', 'department_en','department_fr', 'org_id'])['service_standard_id'].count().reset_index()\n",
    "# maf2_denom = maf2.groupby(['fiscal_yr', 'department_en','department_fr', 'org_id'])['service_standard_id'].count().reset_index()\n",
    "\n",
    "# maf2 = pd.merge(\n",
    "#     maf2_num,\n",
    "#     maf2_denom,\n",
    "#     suffixes=['_met','_total'],\n",
    "#     on=['fiscal_yr', 'department_en','department_fr', 'org_id'],\n",
    "#     how='outer'\n",
    "# )\n",
    "\n",
    "# maf2['maf2_score'] = (maf2['service_standard_id_met']/maf2['service_standard_id_total'])*100\n",
    "\n",
    "# maf2.loc[maf2['fiscal_yr'] == '2023-2024', ['service_standard_id_total']].sum()"
   ]
  },
  {
   "cell_type": "code",
   "execution_count": 8,
   "id": "9c7c1534-a8c3-4172-8773-a0b9be645802",
   "metadata": {},
   "outputs": [],
   "source": [
    "\n",
    "\n",
    "# ifoi_en = pd.read_csv(parent_dir / \"inputs\" / \"ifoi_en.csv\")\n",
    "# ifoi_fr = pd.read_csv(parent_dir / \"inputs\" / \"ifoi_fr.csv\")\n",
    "\n",
    "# ifoi_en = ifoi_en.set_index(ifoi_en.columns[0], drop=True).add_suffix('_en')\n",
    "# ifoi_fr = ifoi_fr.set_index(ifoi_fr.columns[0], drop=True).add_suffix('_fr')\n",
    "\n",
    "# ifoi_en.set_index(ifoi_en.columns[0], drop=True)\n",
    "# ifoi_fr.set_index(ifoi_fr.columns[0], drop=True)\n",
    "\n",
    "# ifoi = pd.concat([ifoi_en, ifoi_fr], axis=1)\n",
    "\n",
    "# # Extract column lists\n",
    "# en_cols = ifoi_en.columns.tolist()\n",
    "# fr_cols = ifoi_fr.columns.tolist()\n",
    "\n",
    "# # Interleave them by index\n",
    "# merged_cols = [col for pair in zip(en_cols, fr_cols) for col in pair]\n",
    "\n",
    "# # Apply new column order\n",
    "# ifoi = standardize_column_names(ifoi[merged_cols].reset_index())\n",
    "\n",
    "# ifoi"
   ]
  }
 ],
 "metadata": {
  "kernelspec": {
   "display_name": "Python 3 (ipykernel)",
   "language": "python",
   "name": "python3"
  },
  "language_info": {
   "codemirror_mode": {
    "name": "ipython",
    "version": 3
   },
   "file_extension": ".py",
   "mimetype": "text/x-python",
   "name": "python",
   "nbconvert_exporter": "python",
   "pygments_lexer": "ipython3",
   "version": "3.12.8"
  }
 },
 "nbformat": 4,
 "nbformat_minor": 5
}
